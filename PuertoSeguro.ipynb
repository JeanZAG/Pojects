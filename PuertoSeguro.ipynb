{
 "cells": [
  {
   "cell_type": "markdown",
   "metadata": {},
   "source": [
    "# Machine Learning : final project\n",
    "\n",
    "By **Jean Zagdoun** and **Yohan Foucade**\n",
    "\n",
    "The goal of this project is to explore and extract information from the **train.csv** dataset, using machine learning algorithms.\n",
    "\n",
    "Let's start with importing, visualizing and preprocessing the data."
   ]
  },
  {
   "cell_type": "code",
   "execution_count": 1,
   "metadata": {
    "collapsed": true
   },
   "outputs": [],
   "source": [
    "# import the required libraries\n",
    "\n",
    "import numpy as np\n",
    "import pandas as pd\n",
    "import matplotlib.pyplot as plt\n",
    "from matplotlib.colors import ListedColormap\n",
    "import seaborn as sns\n",
    "cm = plt.cm.RdBu\n",
    "cm_bright = ListedColormap(['#FF0000', '#0000FF'])\n",
    "%matplotlib inline"
   ]
  },
  {
   "cell_type": "code",
   "execution_count": 2,
   "metadata": {},
   "outputs": [
    {
     "name": "stderr",
     "output_type": "stream",
     "text": [
      "/home/zagdoun/anaconda2/envs/tensorflow3/lib/python3.6/site-packages/sklearn/cross_validation.py:41: DeprecationWarning: This module was deprecated in version 0.18 in favor of the model_selection module into which all the refactored classes and functions are moved. Also note that the interface of the new CV iterators are different from that of this module. This module will be removed in 0.20.\n",
      "  \"This module will be removed in 0.20.\", DeprecationWarning)\n",
      "/home/zagdoun/anaconda2/envs/tensorflow3/lib/python3.6/site-packages/sklearn/grid_search.py:42: DeprecationWarning: This module was deprecated in version 0.18 in favor of the model_selection module into which all the refactored classes and functions are moved. This module will be removed in 0.20.\n",
      "  DeprecationWarning)\n"
     ]
    }
   ],
   "source": [
    "from sklearn.metrics import classification_report, precision_score, recall_score, roc_curve, f1_score, auc\n",
    "from IPython.display import Latex\n",
    "from sklearn.grid_search import GridSearchCV\n",
    "from sklearn.model_selection import train_test_split\n",
    "from sklearn.ensemble import AdaBoostClassifier, RandomForestClassifier, GradientBoostingClassifier\n",
    "from sklearn.tree import DecisionTreeClassifier"
   ]
  },
  {
   "cell_type": "markdown",
   "metadata": {},
   "source": [
    "## Import the data"
   ]
  },
  {
   "cell_type": "code",
   "execution_count": 3,
   "metadata": {
    "collapsed": true
   },
   "outputs": [],
   "source": [
    "data = pd.read_csv('train.csv')"
   ]
  },
  {
   "cell_type": "markdown",
   "metadata": {},
   "source": [
    "## Data exploration and preprocessing"
   ]
  },
  {
   "cell_type": "code",
   "execution_count": 4,
   "metadata": {},
   "outputs": [
    {
     "data": {
      "text/html": [
       "<div>\n",
       "<style>\n",
       "    .dataframe thead tr:only-child th {\n",
       "        text-align: right;\n",
       "    }\n",
       "\n",
       "    .dataframe thead th {\n",
       "        text-align: left;\n",
       "    }\n",
       "\n",
       "    .dataframe tbody tr th {\n",
       "        vertical-align: top;\n",
       "    }\n",
       "</style>\n",
       "<table border=\"1\" class=\"dataframe\">\n",
       "  <thead>\n",
       "    <tr style=\"text-align: right;\">\n",
       "      <th></th>\n",
       "      <th>id</th>\n",
       "      <th>target</th>\n",
       "      <th>ps_ind_01</th>\n",
       "      <th>ps_ind_02_cat</th>\n",
       "      <th>ps_ind_03</th>\n",
       "      <th>ps_ind_04_cat</th>\n",
       "      <th>ps_ind_05_cat</th>\n",
       "      <th>ps_ind_06_bin</th>\n",
       "      <th>ps_ind_07_bin</th>\n",
       "      <th>ps_ind_08_bin</th>\n",
       "      <th>...</th>\n",
       "      <th>ps_calc_11</th>\n",
       "      <th>ps_calc_12</th>\n",
       "      <th>ps_calc_13</th>\n",
       "      <th>ps_calc_14</th>\n",
       "      <th>ps_calc_15_bin</th>\n",
       "      <th>ps_calc_16_bin</th>\n",
       "      <th>ps_calc_17_bin</th>\n",
       "      <th>ps_calc_18_bin</th>\n",
       "      <th>ps_calc_19_bin</th>\n",
       "      <th>ps_calc_20_bin</th>\n",
       "    </tr>\n",
       "  </thead>\n",
       "  <tbody>\n",
       "    <tr>\n",
       "      <th>0</th>\n",
       "      <td>7</td>\n",
       "      <td>0</td>\n",
       "      <td>2</td>\n",
       "      <td>2</td>\n",
       "      <td>5</td>\n",
       "      <td>1</td>\n",
       "      <td>0</td>\n",
       "      <td>0</td>\n",
       "      <td>1</td>\n",
       "      <td>0</td>\n",
       "      <td>...</td>\n",
       "      <td>9</td>\n",
       "      <td>1</td>\n",
       "      <td>5</td>\n",
       "      <td>8</td>\n",
       "      <td>0</td>\n",
       "      <td>1</td>\n",
       "      <td>1</td>\n",
       "      <td>0</td>\n",
       "      <td>0</td>\n",
       "      <td>1</td>\n",
       "    </tr>\n",
       "    <tr>\n",
       "      <th>1</th>\n",
       "      <td>9</td>\n",
       "      <td>0</td>\n",
       "      <td>1</td>\n",
       "      <td>1</td>\n",
       "      <td>7</td>\n",
       "      <td>0</td>\n",
       "      <td>0</td>\n",
       "      <td>0</td>\n",
       "      <td>0</td>\n",
       "      <td>1</td>\n",
       "      <td>...</td>\n",
       "      <td>3</td>\n",
       "      <td>1</td>\n",
       "      <td>1</td>\n",
       "      <td>9</td>\n",
       "      <td>0</td>\n",
       "      <td>1</td>\n",
       "      <td>1</td>\n",
       "      <td>0</td>\n",
       "      <td>1</td>\n",
       "      <td>0</td>\n",
       "    </tr>\n",
       "    <tr>\n",
       "      <th>2</th>\n",
       "      <td>13</td>\n",
       "      <td>0</td>\n",
       "      <td>5</td>\n",
       "      <td>4</td>\n",
       "      <td>9</td>\n",
       "      <td>1</td>\n",
       "      <td>0</td>\n",
       "      <td>0</td>\n",
       "      <td>0</td>\n",
       "      <td>1</td>\n",
       "      <td>...</td>\n",
       "      <td>4</td>\n",
       "      <td>2</td>\n",
       "      <td>7</td>\n",
       "      <td>7</td>\n",
       "      <td>0</td>\n",
       "      <td>1</td>\n",
       "      <td>1</td>\n",
       "      <td>0</td>\n",
       "      <td>1</td>\n",
       "      <td>0</td>\n",
       "    </tr>\n",
       "    <tr>\n",
       "      <th>3</th>\n",
       "      <td>16</td>\n",
       "      <td>0</td>\n",
       "      <td>0</td>\n",
       "      <td>1</td>\n",
       "      <td>2</td>\n",
       "      <td>0</td>\n",
       "      <td>0</td>\n",
       "      <td>1</td>\n",
       "      <td>0</td>\n",
       "      <td>0</td>\n",
       "      <td>...</td>\n",
       "      <td>2</td>\n",
       "      <td>2</td>\n",
       "      <td>4</td>\n",
       "      <td>9</td>\n",
       "      <td>0</td>\n",
       "      <td>0</td>\n",
       "      <td>0</td>\n",
       "      <td>0</td>\n",
       "      <td>0</td>\n",
       "      <td>0</td>\n",
       "    </tr>\n",
       "    <tr>\n",
       "      <th>4</th>\n",
       "      <td>17</td>\n",
       "      <td>0</td>\n",
       "      <td>0</td>\n",
       "      <td>2</td>\n",
       "      <td>0</td>\n",
       "      <td>1</td>\n",
       "      <td>0</td>\n",
       "      <td>1</td>\n",
       "      <td>0</td>\n",
       "      <td>0</td>\n",
       "      <td>...</td>\n",
       "      <td>3</td>\n",
       "      <td>1</td>\n",
       "      <td>1</td>\n",
       "      <td>3</td>\n",
       "      <td>0</td>\n",
       "      <td>0</td>\n",
       "      <td>0</td>\n",
       "      <td>1</td>\n",
       "      <td>1</td>\n",
       "      <td>0</td>\n",
       "    </tr>\n",
       "    <tr>\n",
       "      <th>5</th>\n",
       "      <td>19</td>\n",
       "      <td>0</td>\n",
       "      <td>5</td>\n",
       "      <td>1</td>\n",
       "      <td>4</td>\n",
       "      <td>0</td>\n",
       "      <td>0</td>\n",
       "      <td>0</td>\n",
       "      <td>0</td>\n",
       "      <td>0</td>\n",
       "      <td>...</td>\n",
       "      <td>4</td>\n",
       "      <td>2</td>\n",
       "      <td>0</td>\n",
       "      <td>9</td>\n",
       "      <td>0</td>\n",
       "      <td>1</td>\n",
       "      <td>0</td>\n",
       "      <td>1</td>\n",
       "      <td>1</td>\n",
       "      <td>1</td>\n",
       "    </tr>\n",
       "    <tr>\n",
       "      <th>6</th>\n",
       "      <td>20</td>\n",
       "      <td>0</td>\n",
       "      <td>2</td>\n",
       "      <td>1</td>\n",
       "      <td>3</td>\n",
       "      <td>1</td>\n",
       "      <td>0</td>\n",
       "      <td>0</td>\n",
       "      <td>1</td>\n",
       "      <td>0</td>\n",
       "      <td>...</td>\n",
       "      <td>3</td>\n",
       "      <td>0</td>\n",
       "      <td>0</td>\n",
       "      <td>10</td>\n",
       "      <td>0</td>\n",
       "      <td>1</td>\n",
       "      <td>0</td>\n",
       "      <td>0</td>\n",
       "      <td>1</td>\n",
       "      <td>0</td>\n",
       "    </tr>\n",
       "    <tr>\n",
       "      <th>7</th>\n",
       "      <td>22</td>\n",
       "      <td>0</td>\n",
       "      <td>5</td>\n",
       "      <td>1</td>\n",
       "      <td>4</td>\n",
       "      <td>0</td>\n",
       "      <td>0</td>\n",
       "      <td>1</td>\n",
       "      <td>0</td>\n",
       "      <td>0</td>\n",
       "      <td>...</td>\n",
       "      <td>7</td>\n",
       "      <td>1</td>\n",
       "      <td>3</td>\n",
       "      <td>6</td>\n",
       "      <td>1</td>\n",
       "      <td>0</td>\n",
       "      <td>1</td>\n",
       "      <td>0</td>\n",
       "      <td>1</td>\n",
       "      <td>0</td>\n",
       "    </tr>\n",
       "    <tr>\n",
       "      <th>8</th>\n",
       "      <td>26</td>\n",
       "      <td>0</td>\n",
       "      <td>5</td>\n",
       "      <td>1</td>\n",
       "      <td>3</td>\n",
       "      <td>1</td>\n",
       "      <td>0</td>\n",
       "      <td>0</td>\n",
       "      <td>0</td>\n",
       "      <td>1</td>\n",
       "      <td>...</td>\n",
       "      <td>4</td>\n",
       "      <td>2</td>\n",
       "      <td>1</td>\n",
       "      <td>5</td>\n",
       "      <td>0</td>\n",
       "      <td>1</td>\n",
       "      <td>0</td>\n",
       "      <td>0</td>\n",
       "      <td>0</td>\n",
       "      <td>1</td>\n",
       "    </tr>\n",
       "    <tr>\n",
       "      <th>9</th>\n",
       "      <td>28</td>\n",
       "      <td>1</td>\n",
       "      <td>1</td>\n",
       "      <td>1</td>\n",
       "      <td>2</td>\n",
       "      <td>0</td>\n",
       "      <td>0</td>\n",
       "      <td>0</td>\n",
       "      <td>1</td>\n",
       "      <td>0</td>\n",
       "      <td>...</td>\n",
       "      <td>3</td>\n",
       "      <td>5</td>\n",
       "      <td>0</td>\n",
       "      <td>6</td>\n",
       "      <td>0</td>\n",
       "      <td>1</td>\n",
       "      <td>0</td>\n",
       "      <td>0</td>\n",
       "      <td>1</td>\n",
       "      <td>0</td>\n",
       "    </tr>\n",
       "  </tbody>\n",
       "</table>\n",
       "<p>10 rows × 59 columns</p>\n",
       "</div>"
      ],
      "text/plain": [
       "   id  target  ps_ind_01  ps_ind_02_cat  ps_ind_03  ps_ind_04_cat  \\\n",
       "0   7       0          2              2          5              1   \n",
       "1   9       0          1              1          7              0   \n",
       "2  13       0          5              4          9              1   \n",
       "3  16       0          0              1          2              0   \n",
       "4  17       0          0              2          0              1   \n",
       "5  19       0          5              1          4              0   \n",
       "6  20       0          2              1          3              1   \n",
       "7  22       0          5              1          4              0   \n",
       "8  26       0          5              1          3              1   \n",
       "9  28       1          1              1          2              0   \n",
       "\n",
       "   ps_ind_05_cat  ps_ind_06_bin  ps_ind_07_bin  ps_ind_08_bin       ...        \\\n",
       "0              0              0              1              0       ...         \n",
       "1              0              0              0              1       ...         \n",
       "2              0              0              0              1       ...         \n",
       "3              0              1              0              0       ...         \n",
       "4              0              1              0              0       ...         \n",
       "5              0              0              0              0       ...         \n",
       "6              0              0              1              0       ...         \n",
       "7              0              1              0              0       ...         \n",
       "8              0              0              0              1       ...         \n",
       "9              0              0              1              0       ...         \n",
       "\n",
       "   ps_calc_11  ps_calc_12  ps_calc_13  ps_calc_14  ps_calc_15_bin  \\\n",
       "0           9           1           5           8               0   \n",
       "1           3           1           1           9               0   \n",
       "2           4           2           7           7               0   \n",
       "3           2           2           4           9               0   \n",
       "4           3           1           1           3               0   \n",
       "5           4           2           0           9               0   \n",
       "6           3           0           0          10               0   \n",
       "7           7           1           3           6               1   \n",
       "8           4           2           1           5               0   \n",
       "9           3           5           0           6               0   \n",
       "\n",
       "   ps_calc_16_bin  ps_calc_17_bin  ps_calc_18_bin  ps_calc_19_bin  \\\n",
       "0               1               1               0               0   \n",
       "1               1               1               0               1   \n",
       "2               1               1               0               1   \n",
       "3               0               0               0               0   \n",
       "4               0               0               1               1   \n",
       "5               1               0               1               1   \n",
       "6               1               0               0               1   \n",
       "7               0               1               0               1   \n",
       "8               1               0               0               0   \n",
       "9               1               0               0               1   \n",
       "\n",
       "   ps_calc_20_bin  \n",
       "0               1  \n",
       "1               0  \n",
       "2               0  \n",
       "3               0  \n",
       "4               0  \n",
       "5               1  \n",
       "6               0  \n",
       "7               0  \n",
       "8               1  \n",
       "9               0  \n",
       "\n",
       "[10 rows x 59 columns]"
      ]
     },
     "execution_count": 4,
     "metadata": {},
     "output_type": "execute_result"
    }
   ],
   "source": [
    "data.head(n = 10)"
   ]
  },
  {
   "cell_type": "code",
   "execution_count": 5,
   "metadata": {},
   "outputs": [
    {
     "data": {
      "text/html": [
       "<div>\n",
       "<style>\n",
       "    .dataframe thead tr:only-child th {\n",
       "        text-align: right;\n",
       "    }\n",
       "\n",
       "    .dataframe thead th {\n",
       "        text-align: left;\n",
       "    }\n",
       "\n",
       "    .dataframe tbody tr th {\n",
       "        vertical-align: top;\n",
       "    }\n",
       "</style>\n",
       "<table border=\"1\" class=\"dataframe\">\n",
       "  <thead>\n",
       "    <tr style=\"text-align: right;\">\n",
       "      <th></th>\n",
       "      <th>id</th>\n",
       "      <th>target</th>\n",
       "      <th>ps_ind_01</th>\n",
       "      <th>ps_ind_02_cat</th>\n",
       "      <th>ps_ind_03</th>\n",
       "      <th>ps_ind_04_cat</th>\n",
       "      <th>ps_ind_05_cat</th>\n",
       "      <th>ps_ind_06_bin</th>\n",
       "      <th>ps_ind_07_bin</th>\n",
       "      <th>ps_ind_08_bin</th>\n",
       "      <th>...</th>\n",
       "      <th>ps_calc_11</th>\n",
       "      <th>ps_calc_12</th>\n",
       "      <th>ps_calc_13</th>\n",
       "      <th>ps_calc_14</th>\n",
       "      <th>ps_calc_15_bin</th>\n",
       "      <th>ps_calc_16_bin</th>\n",
       "      <th>ps_calc_17_bin</th>\n",
       "      <th>ps_calc_18_bin</th>\n",
       "      <th>ps_calc_19_bin</th>\n",
       "      <th>ps_calc_20_bin</th>\n",
       "    </tr>\n",
       "  </thead>\n",
       "  <tbody>\n",
       "    <tr>\n",
       "      <th>count</th>\n",
       "      <td>5.952120e+05</td>\n",
       "      <td>595212.000000</td>\n",
       "      <td>595212.000000</td>\n",
       "      <td>595212.000000</td>\n",
       "      <td>595212.000000</td>\n",
       "      <td>595212.000000</td>\n",
       "      <td>595212.000000</td>\n",
       "      <td>595212.000000</td>\n",
       "      <td>595212.000000</td>\n",
       "      <td>595212.000000</td>\n",
       "      <td>...</td>\n",
       "      <td>595212.000000</td>\n",
       "      <td>595212.000000</td>\n",
       "      <td>595212.000000</td>\n",
       "      <td>595212.000000</td>\n",
       "      <td>595212.000000</td>\n",
       "      <td>595212.000000</td>\n",
       "      <td>595212.000000</td>\n",
       "      <td>595212.000000</td>\n",
       "      <td>595212.000000</td>\n",
       "      <td>595212.000000</td>\n",
       "    </tr>\n",
       "    <tr>\n",
       "      <th>mean</th>\n",
       "      <td>7.438036e+05</td>\n",
       "      <td>0.036448</td>\n",
       "      <td>1.900378</td>\n",
       "      <td>1.358943</td>\n",
       "      <td>4.423318</td>\n",
       "      <td>0.416794</td>\n",
       "      <td>0.405188</td>\n",
       "      <td>0.393742</td>\n",
       "      <td>0.257033</td>\n",
       "      <td>0.163921</td>\n",
       "      <td>...</td>\n",
       "      <td>5.441382</td>\n",
       "      <td>1.441918</td>\n",
       "      <td>2.872288</td>\n",
       "      <td>7.539026</td>\n",
       "      <td>0.122427</td>\n",
       "      <td>0.627840</td>\n",
       "      <td>0.554182</td>\n",
       "      <td>0.287182</td>\n",
       "      <td>0.349024</td>\n",
       "      <td>0.153318</td>\n",
       "    </tr>\n",
       "    <tr>\n",
       "      <th>std</th>\n",
       "      <td>4.293678e+05</td>\n",
       "      <td>0.187401</td>\n",
       "      <td>1.983789</td>\n",
       "      <td>0.664594</td>\n",
       "      <td>2.699902</td>\n",
       "      <td>0.493311</td>\n",
       "      <td>1.350642</td>\n",
       "      <td>0.488579</td>\n",
       "      <td>0.436998</td>\n",
       "      <td>0.370205</td>\n",
       "      <td>...</td>\n",
       "      <td>2.332871</td>\n",
       "      <td>1.202963</td>\n",
       "      <td>1.694887</td>\n",
       "      <td>2.746652</td>\n",
       "      <td>0.327779</td>\n",
       "      <td>0.483381</td>\n",
       "      <td>0.497056</td>\n",
       "      <td>0.452447</td>\n",
       "      <td>0.476662</td>\n",
       "      <td>0.360295</td>\n",
       "    </tr>\n",
       "    <tr>\n",
       "      <th>min</th>\n",
       "      <td>7.000000e+00</td>\n",
       "      <td>0.000000</td>\n",
       "      <td>0.000000</td>\n",
       "      <td>-1.000000</td>\n",
       "      <td>0.000000</td>\n",
       "      <td>-1.000000</td>\n",
       "      <td>-1.000000</td>\n",
       "      <td>0.000000</td>\n",
       "      <td>0.000000</td>\n",
       "      <td>0.000000</td>\n",
       "      <td>...</td>\n",
       "      <td>0.000000</td>\n",
       "      <td>0.000000</td>\n",
       "      <td>0.000000</td>\n",
       "      <td>0.000000</td>\n",
       "      <td>0.000000</td>\n",
       "      <td>0.000000</td>\n",
       "      <td>0.000000</td>\n",
       "      <td>0.000000</td>\n",
       "      <td>0.000000</td>\n",
       "      <td>0.000000</td>\n",
       "    </tr>\n",
       "    <tr>\n",
       "      <th>25%</th>\n",
       "      <td>3.719915e+05</td>\n",
       "      <td>0.000000</td>\n",
       "      <td>0.000000</td>\n",
       "      <td>1.000000</td>\n",
       "      <td>2.000000</td>\n",
       "      <td>0.000000</td>\n",
       "      <td>0.000000</td>\n",
       "      <td>0.000000</td>\n",
       "      <td>0.000000</td>\n",
       "      <td>0.000000</td>\n",
       "      <td>...</td>\n",
       "      <td>4.000000</td>\n",
       "      <td>1.000000</td>\n",
       "      <td>2.000000</td>\n",
       "      <td>6.000000</td>\n",
       "      <td>0.000000</td>\n",
       "      <td>0.000000</td>\n",
       "      <td>0.000000</td>\n",
       "      <td>0.000000</td>\n",
       "      <td>0.000000</td>\n",
       "      <td>0.000000</td>\n",
       "    </tr>\n",
       "    <tr>\n",
       "      <th>50%</th>\n",
       "      <td>7.435475e+05</td>\n",
       "      <td>0.000000</td>\n",
       "      <td>1.000000</td>\n",
       "      <td>1.000000</td>\n",
       "      <td>4.000000</td>\n",
       "      <td>0.000000</td>\n",
       "      <td>0.000000</td>\n",
       "      <td>0.000000</td>\n",
       "      <td>0.000000</td>\n",
       "      <td>0.000000</td>\n",
       "      <td>...</td>\n",
       "      <td>5.000000</td>\n",
       "      <td>1.000000</td>\n",
       "      <td>3.000000</td>\n",
       "      <td>7.000000</td>\n",
       "      <td>0.000000</td>\n",
       "      <td>1.000000</td>\n",
       "      <td>1.000000</td>\n",
       "      <td>0.000000</td>\n",
       "      <td>0.000000</td>\n",
       "      <td>0.000000</td>\n",
       "    </tr>\n",
       "    <tr>\n",
       "      <th>75%</th>\n",
       "      <td>1.115549e+06</td>\n",
       "      <td>0.000000</td>\n",
       "      <td>3.000000</td>\n",
       "      <td>2.000000</td>\n",
       "      <td>6.000000</td>\n",
       "      <td>1.000000</td>\n",
       "      <td>0.000000</td>\n",
       "      <td>1.000000</td>\n",
       "      <td>1.000000</td>\n",
       "      <td>0.000000</td>\n",
       "      <td>...</td>\n",
       "      <td>7.000000</td>\n",
       "      <td>2.000000</td>\n",
       "      <td>4.000000</td>\n",
       "      <td>9.000000</td>\n",
       "      <td>0.000000</td>\n",
       "      <td>1.000000</td>\n",
       "      <td>1.000000</td>\n",
       "      <td>1.000000</td>\n",
       "      <td>1.000000</td>\n",
       "      <td>0.000000</td>\n",
       "    </tr>\n",
       "    <tr>\n",
       "      <th>max</th>\n",
       "      <td>1.488027e+06</td>\n",
       "      <td>1.000000</td>\n",
       "      <td>7.000000</td>\n",
       "      <td>4.000000</td>\n",
       "      <td>11.000000</td>\n",
       "      <td>1.000000</td>\n",
       "      <td>6.000000</td>\n",
       "      <td>1.000000</td>\n",
       "      <td>1.000000</td>\n",
       "      <td>1.000000</td>\n",
       "      <td>...</td>\n",
       "      <td>19.000000</td>\n",
       "      <td>10.000000</td>\n",
       "      <td>13.000000</td>\n",
       "      <td>23.000000</td>\n",
       "      <td>1.000000</td>\n",
       "      <td>1.000000</td>\n",
       "      <td>1.000000</td>\n",
       "      <td>1.000000</td>\n",
       "      <td>1.000000</td>\n",
       "      <td>1.000000</td>\n",
       "    </tr>\n",
       "  </tbody>\n",
       "</table>\n",
       "<p>8 rows × 59 columns</p>\n",
       "</div>"
      ],
      "text/plain": [
       "                 id         target      ps_ind_01  ps_ind_02_cat  \\\n",
       "count  5.952120e+05  595212.000000  595212.000000  595212.000000   \n",
       "mean   7.438036e+05       0.036448       1.900378       1.358943   \n",
       "std    4.293678e+05       0.187401       1.983789       0.664594   \n",
       "min    7.000000e+00       0.000000       0.000000      -1.000000   \n",
       "25%    3.719915e+05       0.000000       0.000000       1.000000   \n",
       "50%    7.435475e+05       0.000000       1.000000       1.000000   \n",
       "75%    1.115549e+06       0.000000       3.000000       2.000000   \n",
       "max    1.488027e+06       1.000000       7.000000       4.000000   \n",
       "\n",
       "           ps_ind_03  ps_ind_04_cat  ps_ind_05_cat  ps_ind_06_bin  \\\n",
       "count  595212.000000  595212.000000  595212.000000  595212.000000   \n",
       "mean        4.423318       0.416794       0.405188       0.393742   \n",
       "std         2.699902       0.493311       1.350642       0.488579   \n",
       "min         0.000000      -1.000000      -1.000000       0.000000   \n",
       "25%         2.000000       0.000000       0.000000       0.000000   \n",
       "50%         4.000000       0.000000       0.000000       0.000000   \n",
       "75%         6.000000       1.000000       0.000000       1.000000   \n",
       "max        11.000000       1.000000       6.000000       1.000000   \n",
       "\n",
       "       ps_ind_07_bin  ps_ind_08_bin       ...           ps_calc_11  \\\n",
       "count  595212.000000  595212.000000       ...        595212.000000   \n",
       "mean        0.257033       0.163921       ...             5.441382   \n",
       "std         0.436998       0.370205       ...             2.332871   \n",
       "min         0.000000       0.000000       ...             0.000000   \n",
       "25%         0.000000       0.000000       ...             4.000000   \n",
       "50%         0.000000       0.000000       ...             5.000000   \n",
       "75%         1.000000       0.000000       ...             7.000000   \n",
       "max         1.000000       1.000000       ...            19.000000   \n",
       "\n",
       "          ps_calc_12     ps_calc_13     ps_calc_14  ps_calc_15_bin  \\\n",
       "count  595212.000000  595212.000000  595212.000000   595212.000000   \n",
       "mean        1.441918       2.872288       7.539026        0.122427   \n",
       "std         1.202963       1.694887       2.746652        0.327779   \n",
       "min         0.000000       0.000000       0.000000        0.000000   \n",
       "25%         1.000000       2.000000       6.000000        0.000000   \n",
       "50%         1.000000       3.000000       7.000000        0.000000   \n",
       "75%         2.000000       4.000000       9.000000        0.000000   \n",
       "max        10.000000      13.000000      23.000000        1.000000   \n",
       "\n",
       "       ps_calc_16_bin  ps_calc_17_bin  ps_calc_18_bin  ps_calc_19_bin  \\\n",
       "count   595212.000000   595212.000000   595212.000000   595212.000000   \n",
       "mean         0.627840        0.554182        0.287182        0.349024   \n",
       "std          0.483381        0.497056        0.452447        0.476662   \n",
       "min          0.000000        0.000000        0.000000        0.000000   \n",
       "25%          0.000000        0.000000        0.000000        0.000000   \n",
       "50%          1.000000        1.000000        0.000000        0.000000   \n",
       "75%          1.000000        1.000000        1.000000        1.000000   \n",
       "max          1.000000        1.000000        1.000000        1.000000   \n",
       "\n",
       "       ps_calc_20_bin  \n",
       "count   595212.000000  \n",
       "mean         0.153318  \n",
       "std          0.360295  \n",
       "min          0.000000  \n",
       "25%          0.000000  \n",
       "50%          0.000000  \n",
       "75%          0.000000  \n",
       "max          1.000000  \n",
       "\n",
       "[8 rows x 59 columns]"
      ]
     },
     "execution_count": 5,
     "metadata": {},
     "output_type": "execute_result"
    }
   ],
   "source": [
    "data.describe(include = 'all')"
   ]
  },
  {
   "cell_type": "markdown",
   "metadata": {},
   "source": [
    "we don't care about id we drop it.."
   ]
  },
  {
   "cell_type": "code",
   "execution_count": 6,
   "metadata": {
    "collapsed": true
   },
   "outputs": [],
   "source": [
    "data = data.drop(['id'],axis=1)"
   ]
  },
  {
   "cell_type": "code",
   "execution_count": 7,
   "metadata": {},
   "outputs": [
    {
     "data": {
      "text/plain": [
       "True"
      ]
     },
     "execution_count": 7,
     "metadata": {},
     "output_type": "execute_result"
    }
   ],
   "source": [
    "data['target'].isin([0, 1]).all()"
   ]
  },
  {
   "cell_type": "markdown",
   "metadata": {},
   "source": [
    "This is a **binary classification** problem."
   ]
  },
  {
   "cell_type": "code",
   "execution_count": 8,
   "metadata": {},
   "outputs": [
    {
     "name": "stdout",
     "output_type": "stream",
     "text": [
      "nb of zeros : 573518\n",
      "nb of ones : 21694\n",
      "0.963552482141 0.0364475178592\n"
     ]
    }
   ],
   "source": [
    "#How many 0s? 1s?\n",
    "nb1 = data['target'].isin([1]).sum()\n",
    "nb0 = data['target'].isin([0]).sum()\n",
    "print('nb of zeros :', nb0)\n",
    "print('nb of ones :', nb1)\n",
    "prop1 = nb1 / (nb1 + nb0)\n",
    "prop0 = 1 - prop1\n",
    "print(prop0, prop1)"
   ]
  },
  {
   "cell_type": "markdown",
   "metadata": {},
   "source": [
    "We have an unbalanced dataset. We will have to adress this problem"
   ]
  },
  {
   "cell_type": "code",
   "execution_count": 9,
   "metadata": {
    "scrolled": true
   },
   "outputs": [
    {
     "data": {
      "text/plain": [
       "Index(['target', 'ps_ind_01', 'ps_ind_02_cat', 'ps_ind_03', 'ps_ind_04_cat',\n",
       "       'ps_ind_05_cat', 'ps_ind_06_bin', 'ps_ind_07_bin', 'ps_ind_08_bin',\n",
       "       'ps_ind_09_bin', 'ps_ind_10_bin', 'ps_ind_11_bin', 'ps_ind_12_bin',\n",
       "       'ps_ind_13_bin', 'ps_ind_14', 'ps_ind_15', 'ps_ind_16_bin',\n",
       "       'ps_ind_17_bin', 'ps_ind_18_bin', 'ps_reg_01', 'ps_reg_02', 'ps_reg_03',\n",
       "       'ps_car_01_cat', 'ps_car_02_cat', 'ps_car_03_cat', 'ps_car_04_cat',\n",
       "       'ps_car_05_cat', 'ps_car_06_cat', 'ps_car_07_cat', 'ps_car_08_cat',\n",
       "       'ps_car_09_cat', 'ps_car_10_cat', 'ps_car_11_cat', 'ps_car_11',\n",
       "       'ps_car_12', 'ps_car_13', 'ps_car_14', 'ps_car_15', 'ps_calc_01',\n",
       "       'ps_calc_02', 'ps_calc_03', 'ps_calc_04', 'ps_calc_05', 'ps_calc_06',\n",
       "       'ps_calc_07', 'ps_calc_08', 'ps_calc_09', 'ps_calc_10', 'ps_calc_11',\n",
       "       'ps_calc_12', 'ps_calc_13', 'ps_calc_14', 'ps_calc_15_bin',\n",
       "       'ps_calc_16_bin', 'ps_calc_17_bin', 'ps_calc_18_bin', 'ps_calc_19_bin',\n",
       "       'ps_calc_20_bin'],\n",
       "      dtype='object')"
      ]
     },
     "execution_count": 9,
     "metadata": {},
     "output_type": "execute_result"
    }
   ],
   "source": [
    "data.columns"
   ]
  },
  {
   "cell_type": "code",
   "execution_count": 10,
   "metadata": {},
   "outputs": [
    {
     "data": {
      "text/plain": [
       "target              int64\n",
       "ps_ind_01           int64\n",
       "ps_ind_02_cat       int64\n",
       "ps_ind_03           int64\n",
       "ps_ind_04_cat       int64\n",
       "ps_ind_05_cat       int64\n",
       "ps_ind_06_bin       int64\n",
       "ps_ind_07_bin       int64\n",
       "ps_ind_08_bin       int64\n",
       "ps_ind_09_bin       int64\n",
       "ps_ind_10_bin       int64\n",
       "ps_ind_11_bin       int64\n",
       "ps_ind_12_bin       int64\n",
       "ps_ind_13_bin       int64\n",
       "ps_ind_14           int64\n",
       "ps_ind_15           int64\n",
       "ps_ind_16_bin       int64\n",
       "ps_ind_17_bin       int64\n",
       "ps_ind_18_bin       int64\n",
       "ps_reg_01         float64\n",
       "ps_reg_02         float64\n",
       "ps_reg_03         float64\n",
       "ps_car_01_cat       int64\n",
       "ps_car_02_cat       int64\n",
       "ps_car_03_cat       int64\n",
       "ps_car_04_cat       int64\n",
       "ps_car_05_cat       int64\n",
       "ps_car_06_cat       int64\n",
       "ps_car_07_cat       int64\n",
       "ps_car_08_cat       int64\n",
       "ps_car_09_cat       int64\n",
       "ps_car_10_cat       int64\n",
       "ps_car_11_cat       int64\n",
       "ps_car_11           int64\n",
       "ps_car_12         float64\n",
       "ps_car_13         float64\n",
       "ps_car_14         float64\n",
       "ps_car_15         float64\n",
       "ps_calc_01        float64\n",
       "ps_calc_02        float64\n",
       "ps_calc_03        float64\n",
       "ps_calc_04          int64\n",
       "ps_calc_05          int64\n",
       "ps_calc_06          int64\n",
       "ps_calc_07          int64\n",
       "ps_calc_08          int64\n",
       "ps_calc_09          int64\n",
       "ps_calc_10          int64\n",
       "ps_calc_11          int64\n",
       "ps_calc_12          int64\n",
       "ps_calc_13          int64\n",
       "ps_calc_14          int64\n",
       "ps_calc_15_bin      int64\n",
       "ps_calc_16_bin      int64\n",
       "ps_calc_17_bin      int64\n",
       "ps_calc_18_bin      int64\n",
       "ps_calc_19_bin      int64\n",
       "ps_calc_20_bin      int64\n",
       "dtype: object"
      ]
     },
     "execution_count": 10,
     "metadata": {},
     "output_type": "execute_result"
    }
   ],
   "source": [
    "data.dtypes"
   ]
  },
  {
   "cell_type": "markdown",
   "metadata": {},
   "source": [
    "their are lot's of categorical data\n",
    "\n",
    "And as missing data are represented by -1 we will investigate how they are spread in the dataset"
   ]
  },
  {
   "cell_type": "code",
   "execution_count": 11,
   "metadata": {
    "scrolled": true
   },
   "outputs": [
    {
     "data": {
      "text/plain": [
       "target                 0\n",
       "ps_ind_01              0\n",
       "ps_ind_02_cat        216\n",
       "ps_ind_03              0\n",
       "ps_ind_04_cat         83\n",
       "ps_ind_05_cat       5809\n",
       "ps_ind_06_bin          0\n",
       "ps_ind_07_bin          0\n",
       "ps_ind_08_bin          0\n",
       "ps_ind_09_bin          0\n",
       "ps_ind_10_bin          0\n",
       "ps_ind_11_bin          0\n",
       "ps_ind_12_bin          0\n",
       "ps_ind_13_bin          0\n",
       "ps_ind_14              0\n",
       "ps_ind_15              0\n",
       "ps_ind_16_bin          0\n",
       "ps_ind_17_bin          0\n",
       "ps_ind_18_bin          0\n",
       "ps_reg_01              0\n",
       "ps_reg_02              0\n",
       "ps_reg_03         107772\n",
       "ps_car_01_cat        107\n",
       "ps_car_02_cat          5\n",
       "ps_car_03_cat     411231\n",
       "ps_car_04_cat          0\n",
       "ps_car_05_cat     266551\n",
       "ps_car_06_cat          0\n",
       "ps_car_07_cat      11489\n",
       "ps_car_08_cat          0\n",
       "ps_car_09_cat        569\n",
       "ps_car_10_cat          0\n",
       "ps_car_11_cat          0\n",
       "ps_car_11              5\n",
       "ps_car_12              1\n",
       "ps_car_13              0\n",
       "ps_car_14          42620\n",
       "ps_car_15              0\n",
       "ps_calc_01             0\n",
       "ps_calc_02             0\n",
       "ps_calc_03             0\n",
       "ps_calc_04             0\n",
       "ps_calc_05             0\n",
       "ps_calc_06             0\n",
       "ps_calc_07             0\n",
       "ps_calc_08             0\n",
       "ps_calc_09             0\n",
       "ps_calc_10             0\n",
       "ps_calc_11             0\n",
       "ps_calc_12             0\n",
       "ps_calc_13             0\n",
       "ps_calc_14             0\n",
       "ps_calc_15_bin         0\n",
       "ps_calc_16_bin         0\n",
       "ps_calc_17_bin         0\n",
       "ps_calc_18_bin         0\n",
       "ps_calc_19_bin         0\n",
       "ps_calc_20_bin         0\n",
       "dtype: int64"
      ]
     },
     "execution_count": 11,
     "metadata": {},
     "output_type": "execute_result"
    }
   ],
   "source": [
    "data.isin([-1]).sum()"
   ]
  },
  {
   "cell_type": "markdown",
   "metadata": {},
   "source": [
    "So they are a lot of missing values but distributed in a small number of collumns"
   ]
  },
  {
   "cell_type": "code",
   "execution_count": 12,
   "metadata": {
    "collapsed": true
   },
   "outputs": [],
   "source": [
    "#Delete columns with a lot of missing values.\n",
    "data = data.drop(['ps_ind_05_cat', 'ps_reg_03', \n",
    "                            'ps_car_03_cat', 'ps_car_05_cat', 'ps_car_07_cat','ps_car_14'], axis=1)"
   ]
  },
  {
   "cell_type": "code",
   "execution_count": 13,
   "metadata": {},
   "outputs": [
    {
     "data": {
      "text/plain": [
       "(595212, 52)"
      ]
     },
     "execution_count": 13,
     "metadata": {},
     "output_type": "execute_result"
    }
   ],
   "source": [
    "data.shape"
   ]
  },
  {
   "cell_type": "code",
   "execution_count": 14,
   "metadata": {
    "collapsed": true
   },
   "outputs": [],
   "source": [
    "#Delete lines with missing values\n",
    "data = data[~data.isin([-1]).any(axis=1)]"
   ]
  },
  {
   "cell_type": "code",
   "execution_count": 15,
   "metadata": {},
   "outputs": [
    {
     "data": {
      "text/plain": [
       "(594444, 52)"
      ]
     },
     "execution_count": 15,
     "metadata": {},
     "output_type": "execute_result"
    }
   ],
   "source": [
    "data.shape\n",
    "#we didn't loose much of data"
   ]
  },
  {
   "cell_type": "code",
   "execution_count": 16,
   "metadata": {},
   "outputs": [
    {
     "data": {
      "image/png": "[encoded data removed]",
      "text/plain": [
       "<matplotlib.figure.Figure at 0x7fa69d18ceb8>"
      ]
     },
     "metadata": {},
     "output_type": "display_data"
    }
   ],
   "source": [
    "i = 0\n",
    "fig, axes = plt.subplots(nrows=5, ncols=3, figsize=(16, 16))\n",
    "columns = [*data.columns[15 * i  : 15 * i + 15]]\n",
    "\n",
    "for i, colname in enumerate(columns):\n",
    "    sns.countplot(colname, data=data, ax=fig.axes[i])"
   ]
  },
  {
   "cell_type": "code",
   "execution_count": 17,
   "metadata": {},
   "outputs": [
    {
     "name": "stdout",
     "output_type": "stream",
     "text": [
      "ps_ind_10_bin       0    1\n",
      "target                    \n",
      "0              572612  210\n",
      "1               21610   12 \n",
      "\n",
      "ps_ind_11_bin       0    1\n",
      "target                    \n",
      "0              571862  960\n",
      "1               21577   45 \n",
      "\n",
      "ps_ind_13_bin       0    1\n",
      "target                    \n",
      "0              572290  532\n",
      "1               21594   28 \n",
      "\n",
      "ps_ind_14       0     1    2    3  4\n",
      "target                              \n",
      "0          566773  5213  706  126  4\n",
      "1           21306   270   36    9  1 \n",
      "\n",
      "ps_ind_12_bin       0     1\n",
      "target                     \n",
      "0              567505  5317\n",
      "1               21334   288 \n",
      "\n"
     ]
    }
   ],
   "source": [
    "for elt in ['ps_ind_10_bin','ps_ind_11_bin','ps_ind_13_bin', 'ps_ind_14','ps_ind_12_bin']:\n",
    "    print(pd.crosstab(data['target'], columns = data[elt]), '\\n')"
   ]
  },
  {
   "cell_type": "code",
   "execution_count": 18,
   "metadata": {
    "collapsed": true
   },
   "outputs": [],
   "source": [
    "#some classes are obviously useless\n",
    "data = data.drop(['ps_ind_10_bin','ps_ind_11_bin','ps_ind_13_bin','ps_ind_14','ps_ind_12_bin'],axis=1)"
   ]
  },
  {
   "cell_type": "code",
   "execution_count": 19,
   "metadata": {
    "collapsed": true
   },
   "outputs": [],
   "source": [
    "labels = data['target'].copy()"
   ]
  },
  {
   "cell_type": "code",
   "execution_count": 20,
   "metadata": {
    "collapsed": true
   },
   "outputs": [],
   "source": [
    "data = data.drop(['target'],axis=1)"
   ]
  },
  {
   "cell_type": "markdown",
   "metadata": {},
   "source": [
    "# Let's make the data talk!\n",
    "\n",
    "We will naivly try to use the adaboost algorithm on our data and see how good it's doing and maybe it will lead us to using different technics and/or model"
   ]
  },
  {
   "cell_type": "code",
   "execution_count": 21,
   "metadata": {
    "collapsed": true
   },
   "outputs": [],
   "source": [
    "from sklearn.model_selection import train_test_split\n",
    "\n",
    "X_train, X_test, Y_train, Y_test = train_test_split(data,labels, test_size=0.3)"
   ]
  },
  {
   "cell_type": "code",
   "execution_count": 22,
   "metadata": {},
   "outputs": [
    {
     "data": {
      "text/plain": [
       "(178334, 46)"
      ]
     },
     "execution_count": 22,
     "metadata": {},
     "output_type": "execute_result"
    }
   ],
   "source": [
    "X_test.shape"
   ]
  },
  {
   "cell_type": "code",
   "execution_count": 23,
   "metadata": {},
   "outputs": [
    {
     "data": {
      "text/plain": [
       "0.036360577731849753"
      ]
     },
     "execution_count": 23,
     "metadata": {},
     "output_type": "execute_result"
    }
   ],
   "source": [
    "Y_train.mean()"
   ]
  },
  {
   "cell_type": "code",
   "execution_count": 24,
   "metadata": {},
   "outputs": [
    {
     "data": {
      "text/plain": [
       "AdaBoostClassifier(algorithm='SAMME.R',\n",
       "          base_estimator=DecisionTreeClassifier(class_weight=None, criterion='entropy', max_depth=5,\n",
       "            max_features=None, max_leaf_nodes=None,\n",
       "            min_impurity_decrease=0.0, min_impurity_split=None,\n",
       "            min_samples_leaf=1, min_samples_split=2,\n",
       "            min_weight_fraction_leaf=0.0, presort=False, random_state=None,\n",
       "            splitter='best'),\n",
       "          learning_rate=1.0, n_estimators=50, random_state=None)"
      ]
     },
     "execution_count": 24,
     "metadata": {},
     "output_type": "execute_result"
    }
   ],
   "source": [
    "adaboost = AdaBoostClassifier(base_estimator=DecisionTreeClassifier(max_depth=5,criterion='entropy'))\n",
    "adaboost.fit(X_train, Y_train)"
   ]
  },
  {
   "cell_type": "code",
   "execution_count": 25,
   "metadata": {},
   "outputs": [
    {
     "data": {
      "text/plain": [
       "<matplotlib.legend.Legend at 0x7fa69467ca90>"
      ]
     },
     "execution_count": 25,
     "metadata": {},
     "output_type": "execute_result"
    },
    {
     "data": {
      "image/png": "[encoded data removed]",
      "text/plain": [
       "<matplotlib.figure.Figure at 0x7fa6995565f8>"
      ]
     },
     "metadata": {},
     "output_type": "display_data"
    }
   ],
   "source": [
    "fpr, tpr, _ = roc_curve(Y_test, adaboost.predict_proba(X_test)[:, 1])\n",
    "roc_auc = auc(fpr, tpr)\n",
    "\n",
    "plt.figure(figsize=(8, 6))\n",
    "plt.plot([0, 1], [0, 1], 'k--')\n",
    "plt.plot(fpr, tpr, label=\"LR (AUC=%.2f)\" % roc_auc, lw=2)\n",
    "plt.xlim([0.0, 1.0])\n",
    "plt.ylim([0.0, 1.05])\n",
    "plt.xlabel('False Positive Rate', fontsize=16)\n",
    "plt.ylabel('True Positive Rate', fontsize=16)\n",
    "plt.title('Receiver operating characteristic', fontsize=18)\n",
    "plt.legend(loc=\"lower right\", fontsize=16)"
   ]
  },
  {
   "cell_type": "code",
   "execution_count": 26,
   "metadata": {},
   "outputs": [
    {
     "name": "stdout",
     "output_type": "stream",
     "text": [
      "             precision    recall  f1-score   support\n",
      "\n",
      "          0       0.96      1.00      0.98    171842\n",
      "          1       0.06      0.00      0.00      6492\n",
      "\n",
      "avg / total       0.93      0.96      0.95    178334\n",
      "\n"
     ]
    }
   ],
   "source": [
    "print(classification_report(Y_test,adaboost.predict(X_test)))"
   ]
  },
  {
   "cell_type": "markdown",
   "metadata": {},
   "source": [
    "# conclusion for this first model\n",
    "\n",
    "The model is finally not so good and a little long to run.    \n",
    "We will try other similar methods(gradient boosting,..) but with the XGBoost librairy wich is much faster!\n",
    "Further more it's main disadventage is the **lack of occurence of the label 1** we will try in a first place to see if we can remediate to this\n",
    "\n",
    "-First attempt will just be multiplying the number of label 1 in a new dataset and see how it is working"
   ]
  },
  {
   "cell_type": "code",
   "execution_count": 27,
   "metadata": {
    "collapsed": true
   },
   "outputs": [],
   "source": [
    "ones = X_train.copy()\n",
    "ones = ones[Y_train.isin([1])]"
   ]
  },
  {
   "cell_type": "code",
   "execution_count": 28,
   "metadata": {},
   "outputs": [
    {
     "data": {
      "text/plain": [
       "(15130, 46)"
      ]
     },
     "execution_count": 28,
     "metadata": {},
     "output_type": "execute_result"
    }
   ],
   "source": [
    "ones.shape"
   ]
  },
  {
   "cell_type": "code",
   "execution_count": 29,
   "metadata": {
    "collapsed": true
   },
   "outputs": [],
   "source": [
    "m_ones = np.concatenate((ones,ones),axis=0)"
   ]
  },
  {
   "cell_type": "code",
   "execution_count": 30,
   "metadata": {},
   "outputs": [
    {
     "data": {
      "text/plain": [
       "(30260, 46)"
      ]
     },
     "execution_count": 30,
     "metadata": {},
     "output_type": "execute_result"
    }
   ],
   "source": [
    "m_ones.shape"
   ]
  },
  {
   "cell_type": "code",
   "execution_count": 31,
   "metadata": {
    "collapsed": true
   },
   "outputs": [],
   "source": [
    "m_ones = np.concatenate((m_ones,m_ones),axis=0)"
   ]
  },
  {
   "cell_type": "code",
   "execution_count": 32,
   "metadata": {},
   "outputs": [
    {
     "data": {
      "text/plain": [
       "(60520, 46)"
      ]
     },
     "execution_count": 32,
     "metadata": {},
     "output_type": "execute_result"
    }
   ],
   "source": [
    "m_ones.shape"
   ]
  },
  {
   "cell_type": "code",
   "execution_count": 33,
   "metadata": {},
   "outputs": [
    {
     "data": {
      "text/plain": [
       "242080"
      ]
     },
     "execution_count": 33,
     "metadata": {},
     "output_type": "execute_result"
    }
   ],
   "source": [
    "m_ones = np.concatenate((m_ones,m_ones),axis=0)\n",
    "m_ones = np.concatenate((m_ones,m_ones),axis=0)\n",
    "m_ones.shape[0]"
   ]
  },
  {
   "cell_type": "code",
   "execution_count": 34,
   "metadata": {},
   "outputs": [
    {
     "data": {
      "text/plain": [
       "(400980, 46)"
      ]
     },
     "execution_count": 34,
     "metadata": {},
     "output_type": "execute_result"
    }
   ],
   "source": [
    "X_train[~Y_train.isin([1]).values].shape"
   ]
  },
  {
   "cell_type": "markdown",
   "metadata": {
    "collapsed": true
   },
   "source": [
    "$$$$\n",
    "## so we have arrived to a reasonable ratio of 1 let's see what it gives us in training\n",
    "\n",
    "We can assume that a model will not just learn how to recreate 0's if we give him  $\\approx30\\%$ of 1 even if they are globally all the same...\n",
    "But first let's see on a model if it works better with more 1:\n",
    "\n",
    "For that we will first train a random forest classifier with the original data and then compare the same model (with the same parameters but with our modified dataset were we multiplied the occurence of $1$'s\n",
    "$$$$"
   ]
  },
  {
   "cell_type": "code",
   "execution_count": 35,
   "metadata": {
    "collapsed": true
   },
   "outputs": [],
   "source": [
    "new_Xtrain = pd.DataFrame(np.concatenate((X_train,m_ones),axis=0))\n",
    "new_Ytrain = pd.DataFrame(np.concatenate((Y_train,np.ones(shape=m_ones.shape[0])),axis=0))"
   ]
  },
  {
   "cell_type": "code",
   "execution_count": 36,
   "metadata": {},
   "outputs": [
    {
     "data": {
      "text/plain": [
       "(658190, 1)"
      ]
     },
     "execution_count": 36,
     "metadata": {},
     "output_type": "execute_result"
    }
   ],
   "source": [
    "new_Ytrain.shape"
   ]
  },
  {
   "cell_type": "code",
   "execution_count": 37,
   "metadata": {},
   "outputs": [
    {
     "data": {
      "text/plain": [
       "(658190, 46)"
      ]
     },
     "execution_count": 37,
     "metadata": {},
     "output_type": "execute_result"
    }
   ],
   "source": [
    "new_Xtrain.shape "
   ]
  },
  {
   "cell_type": "code",
   "execution_count": 38,
   "metadata": {
    "collapsed": true
   },
   "outputs": [],
   "source": [
    "idx = np.random.permutation(len(new_Xtrain))"
   ]
  },
  {
   "cell_type": "code",
   "execution_count": 39,
   "metadata": {
    "collapsed": true
   },
   "outputs": [],
   "source": [
    "#shuffling the data is essential\n",
    "idx = np.random.permutation(len(new_Xtrain))\n",
    "\n",
    "new_Xtrain, new_Ytrain = pd.DataFrame(new_Xtrain.values[idx]), pd.DataFrame(new_Ytrain.values[idx].ravel())"
   ]
  },
  {
   "cell_type": "code",
   "execution_count": 40,
   "metadata": {},
   "outputs": [
    {
     "data": {
      "text/plain": [
       "RandomForestClassifier(bootstrap=True, class_weight=None, criterion='entropy',\n",
       "            max_depth=9, max_features='auto', max_leaf_nodes=None,\n",
       "            min_impurity_decrease=0.0, min_impurity_split=None,\n",
       "            min_samples_leaf=1, min_samples_split=2,\n",
       "            min_weight_fraction_leaf=0.0, n_estimators=10, n_jobs=-1,\n",
       "            oob_score=False, random_state=None, verbose=0,\n",
       "            warm_start=False)"
      ]
     },
     "execution_count": 40,
     "metadata": {},
     "output_type": "execute_result"
    }
   ],
   "source": [
    "RandFor = RandomForestClassifier(criterion='entropy',max_depth=9,n_jobs=-1)\n",
    "RandFor.fit(X_train , Y_train)"
   ]
  },
  {
   "cell_type": "code",
   "execution_count": 41,
   "metadata": {},
   "outputs": [
    {
     "data": {
      "text/plain": [
       "<matplotlib.legend.Legend at 0x7fa6935bcba8>"
      ]
     },
     "execution_count": 41,
     "metadata": {},
     "output_type": "execute_result"
    },
    {
     "data": {
      "image/png": "[encoded data removed]",
      "text/plain": [
       "<matplotlib.figure.Figure at 0x7fa6993e1400>"
      ]
     },
     "metadata": {},
     "output_type": "display_data"
    }
   ],
   "source": [
    "fpr, tpr, _ = roc_curve(Y_test, RandFor.predict_proba(X_test)[:, 1])\n",
    "roc_auc = auc(fpr, tpr)\n",
    "\n",
    "plt.figure(figsize=(8, 6))\n",
    "plt.plot([0, 1], [0, 1], 'k--')\n",
    "plt.plot(fpr, tpr, label=\"LR (AUC=%.2f)\" % roc_auc, lw=2)\n",
    "plt.xlim([0.0, 1.0])\n",
    "plt.ylim([0.0, 1.05])\n",
    "plt.xlabel('False Positive Rate', fontsize=16)\n",
    "plt.ylabel('True Positive Rate', fontsize=16)\n",
    "plt.title('Receiver operating characteristic', fontsize=18)\n",
    "plt.legend(loc=\"lower right\", fontsize=16)"
   ]
  },
  {
   "cell_type": "code",
   "execution_count": 42,
   "metadata": {},
   "outputs": [
    {
     "name": "stdout",
     "output_type": "stream",
     "text": [
      "             precision    recall  f1-score   support\n",
      "\n",
      "          0       0.96      1.00      0.98    171842\n",
      "          1       0.00      0.00      0.00      6492\n",
      "\n",
      "avg / total       0.93      0.96      0.95    178334\n",
      "\n"
     ]
    },
    {
     "name": "stderr",
     "output_type": "stream",
     "text": [
      "/home/zagdoun/anaconda2/envs/tensorflow3/lib/python3.6/site-packages/sklearn/metrics/classification.py:1135: UndefinedMetricWarning: Precision and F-score are ill-defined and being set to 0.0 in labels with no predicted samples.\n",
      "  'precision', 'predicted', average, warn_for)\n"
     ]
    }
   ],
   "source": [
    "print(classification_report(Y_test,RandFor.predict(X_test)))"
   ]
  },
  {
   "cell_type": "code",
   "execution_count": 43,
   "metadata": {},
   "outputs": [
    {
     "name": "stderr",
     "output_type": "stream",
     "text": [
      "/home/zagdoun/anaconda2/envs/tensorflow3/lib/python3.6/site-packages/ipykernel/__main__.py:2: DataConversionWarning: A column-vector y was passed when a 1d array was expected. Please change the shape of y to (n_samples,), for example using ravel().\n",
      "  from ipykernel import kernelapp as app\n"
     ]
    },
    {
     "data": {
      "text/plain": [
       "RandomForestClassifier(bootstrap=True, class_weight=None, criterion='entropy',\n",
       "            max_depth=9, max_features='auto', max_leaf_nodes=None,\n",
       "            min_impurity_decrease=0.0, min_impurity_split=None,\n",
       "            min_samples_leaf=1, min_samples_split=2,\n",
       "            min_weight_fraction_leaf=0.0, n_estimators=10, n_jobs=-1,\n",
       "            oob_score=False, random_state=None, verbose=0,\n",
       "            warm_start=False)"
      ]
     },
     "execution_count": 43,
     "metadata": {},
     "output_type": "execute_result"
    }
   ],
   "source": [
    "RandFor = RandomForestClassifier(criterion='entropy',max_depth=9,n_jobs=-1)\n",
    "RandFor.fit(new_Xtrain , new_Ytrain)"
   ]
  },
  {
   "cell_type": "code",
   "execution_count": 44,
   "metadata": {},
   "outputs": [
    {
     "data": {
      "text/plain": [
       "<matplotlib.legend.Legend at 0x7fa693540e48>"
      ]
     },
     "execution_count": 44,
     "metadata": {},
     "output_type": "execute_result"
    },
    {
     "data": {
      "image/png": "[encoded data removed]",
      "text/plain": [
       "<matplotlib.figure.Figure at 0x7fa6993670b8>"
      ]
     },
     "metadata": {},
     "output_type": "display_data"
    }
   ],
   "source": [
    "fpr, tpr, _ = roc_curve(Y_test, RandFor.predict_proba(X_test)[:, 1])\n",
    "roc_auc = auc(fpr, tpr)\n",
    "\n",
    "plt.figure(figsize=(8, 6))\n",
    "plt.plot([0, 1], [0, 1], 'k--')\n",
    "plt.plot(fpr, tpr, label=\"LR (AUC=%.2f)\" % roc_auc, lw=2)\n",
    "plt.xlim([0.0, 1.0])\n",
    "plt.ylim([0.0, 1.05])\n",
    "plt.xlabel('False Positive Rate', fontsize=16)\n",
    "plt.ylabel('True Positive Rate', fontsize=16)\n",
    "plt.title('Receiver operating characteristic', fontsize=18)\n",
    "plt.legend(loc=\"lower right\", fontsize=16)"
   ]
  },
  {
   "cell_type": "code",
   "execution_count": 45,
   "metadata": {},
   "outputs": [
    {
     "name": "stdout",
     "output_type": "stream",
     "text": [
      "             precision    recall  f1-score   support\n",
      "\n",
      "          0       0.97      0.95      0.96    171842\n",
      "          1       0.08      0.11      0.09      6492\n",
      "\n",
      "avg / total       0.93      0.92      0.93    178334\n",
      "\n"
     ]
    }
   ],
   "source": [
    "print(classification_report(Y_test,RandFor.predict(X_test)))"
   ]
  },
  {
   "cell_type": "markdown",
   "metadata": {
    "collapsed": true
   },
   "source": [
    "$$$$\n",
    "With the same model we see an increasing performance in the precision on classifing the 1's (we assume it's because we multiplied their number).   \n",
    "The first model learned only to classify $0$'s and have a recall of 0 for classifing $1$'s correctly but here $\\approx 10\\%$ of the $1$'s are correctly classify (recall = $\\frac{TP}{FP+TN}$)\n",
    "So we can say that this model really learned a pattern on $1$'s since $10>4$ and $4\\%$ is the proportion of $1$'s in the original dataset.Our interpretation is that it doesn't try at random to gess this class \n",
    "$$$$\n",
    "** Note that if we just focused on the AUC score we couldn't have seen any improuvement of our model**\n",
    "$$$$\n",
    "And so from this result we will now focus our performence of all the model on the recall it gives us for the $1$'s.\n",
    "$$$$\n",
    "Now next step is to try the XGBoost library on our data and see if we can do better than that\n",
    "$$$$"
   ]
  },
  {
   "cell_type": "code",
   "execution_count": 46,
   "metadata": {
    "collapsed": true
   },
   "outputs": [],
   "source": [
    "import xgboost as xgb"
   ]
  },
  {
   "cell_type": "code",
   "execution_count": 47,
   "metadata": {
    "collapsed": true
   },
   "outputs": [],
   "source": [
    "gbm = xgb.XGBClassifier(max_depth=7, n_estimators=100, learning_rate=0.1,scale_pos_weight=0.5,max_delta_step=3).fit(new_Xtrain.values,(new_Ytrain.values).ravel())"
   ]
  },
  {
   "cell_type": "markdown",
   "metadata": {},
   "source": [
    "note that we used scale_pos_weight and max_delta_step as suggested in http://xgboost.readthedocs.io/en/latest//parameter.html#parameters-for-tree-booster and  http://xgboost.readthedocs.io/en/latest///how_to/param_tuning.html their values are totally random :)"
   ]
  },
  {
   "cell_type": "code",
   "execution_count": 48,
   "metadata": {},
   "outputs": [
    {
     "data": {
      "text/plain": [
       "<matplotlib.legend.Legend at 0x7fa693ecef60>"
      ]
     },
     "execution_count": 48,
     "metadata": {},
     "output_type": "execute_result"
    },
    {
     "data": {
      "image/png": "[encoded data removed]",
      "text/plain": [
       "<matplotlib.figure.Figure at 0x7fa694567668>"
      ]
     },
     "metadata": {},
     "output_type": "display_data"
    }
   ],
   "source": [
    "fpr, tpr, _ = roc_curve(Y_test.values, gbm.predict_proba(X_test.values)[:, 1])\n",
    "roc_auc = auc(fpr, tpr)\n",
    "\n",
    "plt.figure(figsize=(8, 6))\n",
    "plt.plot([0, 1], [0, 1], 'k--')\n",
    "plt.plot(fpr, tpr, label=\"LR (AUC=%.2f)\" % roc_auc, lw=2)\n",
    "plt.xlim([0.0, 1.0])\n",
    "plt.ylim([0.0, 1.05])\n",
    "plt.xlabel('False Positive Rate', fontsize=16)\n",
    "plt.ylabel('True Positive Rate', fontsize=16)\n",
    "plt.title('Receiver operating characteristic', fontsize=18)\n",
    "plt.legend(loc=\"lower right\", fontsize=16)"
   ]
  },
  {
   "cell_type": "code",
   "execution_count": 49,
   "metadata": {},
   "outputs": [
    {
     "name": "stdout",
     "output_type": "stream",
     "text": [
      "             precision    recall  f1-score   support\n",
      "\n",
      "          0       0.96      1.00      0.98    171842\n",
      "          1       0.10      0.01      0.03      6492\n",
      "\n",
      "avg / total       0.93      0.96      0.94    178334\n",
      "\n"
     ]
    }
   ],
   "source": [
    "print(classification_report(Y_test.values,gbm.predict(X_test.values)))"
   ]
  },
  {
   "cell_type": "markdown",
   "metadata": {},
   "source": [
    "## Conclusion for our first use of XGB\n",
    "$$$$\n",
    "The model was slow and we have a really bad recall on the $1$ class but by tuning the parameter of this model we expect to improve this.\n",
    "\n",
    "Another idea : maybe the number of features is blocking the algorithm let's try an reduce the dimensions\n",
    "$$$$"
   ]
  },
  {
   "cell_type": "code",
   "execution_count": 50,
   "metadata": {
    "collapsed": true
   },
   "outputs": [],
   "source": [
    "from sklearn.decomposition import pca\n",
    "\n",
    "pca = pca.PCA(n_components=25)\n",
    "U = pca.fit_transform(new_Xtrain.values)"
   ]
  },
  {
   "cell_type": "code",
   "execution_count": 51,
   "metadata": {
    "collapsed": true
   },
   "outputs": [],
   "source": [
    "gbm = xgb.XGBClassifier(max_depth=7, n_estimators=100, learning_rate=0.01,scale_pos_weight=0.5,max_delta_step=3).fit(U,(new_Ytrain.values).ravel())"
   ]
  },
  {
   "cell_type": "code",
   "execution_count": 52,
   "metadata": {},
   "outputs": [
    {
     "data": {
      "text/plain": [
       "<matplotlib.legend.Legend at 0x7fa692575e10>"
      ]
     },
     "execution_count": 52,
     "metadata": {},
     "output_type": "execute_result"
    },
    {
     "data": {
      "image/png": "[encoded data removed]",
      "text/plain": [
       "<matplotlib.figure.Figure at 0x7fa6945ca278>"
      ]
     },
     "metadata": {},
     "output_type": "display_data"
    }
   ],
   "source": [
    "UU = pca.fit_transform(X_test.values)\n",
    "fpr, tpr, _ = roc_curve(Y_test.values, gbm.predict_proba(UU)[:, 1])\n",
    "roc_auc = auc(fpr, tpr)\n",
    "\n",
    "plt.figure(figsize=(8, 6))\n",
    "plt.plot([0, 1], [0, 1], 'k--')\n",
    "plt.plot(fpr, tpr, label=\"LR (AUC=%.2f)\" % roc_auc, lw=2)\n",
    "plt.xlim([0.0, 1.0])\n",
    "plt.ylim([0.0, 1.05])\n",
    "plt.xlabel('False Positive Rate', fontsize=16)\n",
    "plt.ylabel('True Positive Rate', fontsize=16)\n",
    "plt.title('Receiver operating characteristic', fontsize=18)\n",
    "plt.legend(loc=\"lower right\", fontsize=16)"
   ]
  },
  {
   "cell_type": "code",
   "execution_count": 53,
   "metadata": {},
   "outputs": [
    {
     "name": "stdout",
     "output_type": "stream",
     "text": [
      "             precision    recall  f1-score   support\n",
      "\n",
      "          0       0.96      1.00      0.98    171842\n",
      "          1       0.06      0.00      0.00      6492\n",
      "\n",
      "avg / total       0.93      0.96      0.95    178334\n",
      "\n"
     ]
    }
   ],
   "source": [
    "print(classification_report(Y_test.values,gbm.predict(UU)))"
   ]
  },
  {
   "cell_type": "markdown",
   "metadata": {},
   "source": [
    "**Not a good idea it's really, really long to compute and the results are not astonishing...**\n",
    "$$$$\n",
    "$$$$\n"
   ]
  },
  {
   "cell_type": "markdown",
   "metadata": {},
   "source": [
    "now that we know how to use xgboost let's try to run a grid search to see what parameter works more with XGBclassifier .\n",
    "\n",
    "source of most of the code bellow : https://www.kaggle.com/phunter/xgboost-with-gridsearchcv\n",
    "\n",
    "As seen above the our main objective will be classifing correctly the $1$'s but we will still print the ROC curve and take a look at the AUC .\n",
    "\n",
    "The problem is that our goal is not a standard one but we will just have to precise to the gridsearch a custom way to rank all the algorithm \n",
    "\n",
    "For this task we used help from :\n",
    "\n",
    "-http://scikit-learn.org/stable/modules/generated/sklearn.metrics.make_scorer.html                     \n",
    "-http://scikit-learn.org/stable/modules/model_evaluation.html#scoring-parameter\n",
    "\n",
    "Last remark : we used only the training data for GridSearchCV() but it does a Kfold cross validation so we could have used all the data,the reason we didn't do this way is that the grid search is very long to run so we didn't want to wait for ever..."
   ]
  },
  {
   "cell_type": "code",
   "execution_count": 54,
   "metadata": {
    "collapsed": true
   },
   "outputs": [],
   "source": [
    "from sklearn.metrics import make_scorer"
   ]
  },
  {
   "cell_type": "code",
   "execution_count": 55,
   "metadata": {
    "collapsed": true
   },
   "outputs": [],
   "source": [
    "def loss_func(y, y_pred):\n",
    "    I = pd.DataFrame(y)\n",
    "    idx = np.array(I.isin([1])).ravel()\n",
    "    loss = sum(abs(y[idx]-y_pred[idx]))\n",
    "    return loss\n",
    "#first attempt of making a custom score, does not work so well and is equivalent to recall_score in theory\n",
    "\n",
    "\n",
    "def loss_func2(y, y_pred):\n",
    "    return 0.7*recall_score(y, y_pred)+0.3*recall_score(y, y_pred,pos_label=0)\n",
    "#second attempt to make a custom score is more in the philosophy of our presumed best estimator\n",
    "\n",
    "custom_score = make_scorer(loss_func,greater_is_better =True)\n",
    "custom_score2 = make_scorer(recall_score,greater_is_better =True)\n",
    "custom_score3 = make_scorer(loss_func2,greater_is_better =True)\n",
    "\n",
    "#here we can see that defining a good classifier is sometimes hard for exemple if we only focus on the classifing \n",
    "#of 1's and we use class_weights it will give us a very bad model for classifing the 0's"
   ]
  },
  {
   "cell_type": "code",
   "execution_count": 56,
   "metadata": {},
   "outputs": [
    {
     "name": "stdout",
     "output_type": "stream",
     "text": [
      "2\n",
      "0.333333333333\n"
     ]
    }
   ],
   "source": [
    "U = np.array([0,0,1,1,1,0])\n",
    "V = np.array([1,0,0,1,0,1])\n",
    "\n",
    "print(loss_func(U,V))\n",
    "print(loss_func2(U,V))\n",
    "#custom loss functions working find"
   ]
  },
  {
   "cell_type": "code",
   "execution_count": 57,
   "metadata": {
    "collapsed": true
   },
   "outputs": [],
   "source": [
    "GBM = xgb.XGBClassifier()\n",
    "parameters = {\n",
    "        'learning_rate': [0.01,0.1],\n",
    "        'n_estimators': [100], \n",
    "        'max_depth': [7,4],\n",
    "        'scale_pos_weight': [1.5,0.5],\n",
    "        'max_delta_step': [3],\n",
    "        'gamma': [10],\n",
    "        'min_child_weight': [6],\n",
    "        'subsample': [0.6],\n",
    "        'reg_alpha': [8]\n",
    "    }\n",
    "\n",
    "clf = GridSearchCV(GBM, parameters, n_jobs=-1,scoring=custom_score3,verbose=3,cv=2)"
   ]
  },
  {
   "cell_type": "code",
   "execution_count": 58,
   "metadata": {},
   "outputs": [
    {
     "name": "stdout",
     "output_type": "stream",
     "text": [
      "Fitting 2 folds for each of 8 candidates, totalling 16 fits\n",
      "[CV] gamma=10, learning_rate=0.01, max_delta_step=3, max_depth=7, min_child_weight=6, n_estimators=100, reg_alpha=8, scale_pos_weight=1.5, subsample=0.6 \n",
      "[CV] gamma=10, learning_rate=0.01, max_delta_step=3, max_depth=7, min_child_weight=6, n_estimators=100, reg_alpha=8, scale_pos_weight=1.5, subsample=0.6 \n",
      "[CV] gamma=10, learning_rate=0.01, max_delta_step=3, max_depth=7, min_child_weight=6, n_estimators=100, reg_alpha=8, scale_pos_weight=0.5, subsample=0.6 \n",
      "[CV] gamma=10, learning_rate=0.01, max_delta_step=3, max_depth=7, min_child_weight=6, n_estimators=100, reg_alpha=8, scale_pos_weight=0.5, subsample=0.6 \n",
      "[CV]  gamma=10, learning_rate=0.01, max_delta_step=3, max_depth=7, min_child_weight=6, n_estimators=100, reg_alpha=8, scale_pos_weight=0.5, subsample=0.6, score=0.303579 - 4.1min\n",
      "[CV] gamma=10, learning_rate=0.01, max_delta_step=3, max_depth=4, min_child_weight=6, n_estimators=100, reg_alpha=8, scale_pos_weight=1.5, subsample=0.6 \n",
      "[CV]  gamma=10, learning_rate=0.01, max_delta_step=3, max_depth=7, min_child_weight=6, n_estimators=100, reg_alpha=8, scale_pos_weight=1.5, subsample=0.6, score=0.595398 - 4.2min\n",
      "[CV] gamma=10, learning_rate=0.01, max_delta_step=3, max_depth=4, min_child_weight=6, n_estimators=100, reg_alpha=8, scale_pos_weight=1.5, subsample=0.6 \n",
      "[CV]  gamma=10, learning_rate=0.01, max_delta_step=3, max_depth=7, min_child_weight=6, n_estimators=100, reg_alpha=8, scale_pos_weight=0.5, subsample=0.6, score=0.305469 - 4.1min\n",
      "[CV] gamma=10, learning_rate=0.01, max_delta_step=3, max_depth=4, min_child_weight=6, n_estimators=100, reg_alpha=8, scale_pos_weight=0.5, subsample=0.6 \n",
      "[CV]  gamma=10, learning_rate=0.01, max_delta_step=3, max_depth=7, min_child_weight=6, n_estimators=100, reg_alpha=8, scale_pos_weight=1.5, subsample=0.6, score=0.584174 - 4.2min\n",
      "[CV] gamma=10, learning_rate=0.01, max_delta_step=3, max_depth=4, min_child_weight=6, n_estimators=100, reg_alpha=8, scale_pos_weight=0.5, subsample=0.6 \n",
      "[CV]  gamma=10, learning_rate=0.01, max_delta_step=3, max_depth=4, min_child_weight=6, n_estimators=100, reg_alpha=8, scale_pos_weight=1.5, subsample=0.6, score=0.565651 - 2.2min\n",
      "[CV] gamma=10, learning_rate=0.1, max_delta_step=3, max_depth=7, min_child_weight=6, n_estimators=100, reg_alpha=8, scale_pos_weight=1.5, subsample=0.6 \n",
      "[CV]  gamma=10, learning_rate=0.01, max_delta_step=3, max_depth=4, min_child_weight=6, n_estimators=100, reg_alpha=8, scale_pos_weight=1.5, subsample=0.6, score=0.556901 - 2.2min\n",
      "[CV] gamma=10, learning_rate=0.1, max_delta_step=3, max_depth=7, min_child_weight=6, n_estimators=100, reg_alpha=8, scale_pos_weight=1.5, subsample=0.6 \n",
      "[CV]  gamma=10, learning_rate=0.01, max_delta_step=3, max_depth=4, min_child_weight=6, n_estimators=100, reg_alpha=8, scale_pos_weight=0.5, subsample=0.6, score=0.300366 - 2.2min\n",
      "[CV] gamma=10, learning_rate=0.1, max_delta_step=3, max_depth=7, min_child_weight=6, n_estimators=100, reg_alpha=8, scale_pos_weight=0.5, subsample=0.6 \n",
      "[CV]  gamma=10, learning_rate=0.01, max_delta_step=3, max_depth=4, min_child_weight=6, n_estimators=100, reg_alpha=8, scale_pos_weight=0.5, subsample=0.6, score=0.300031 - 2.2min\n",
      "[CV] gamma=10, learning_rate=0.1, max_delta_step=3, max_depth=7, min_child_weight=6, n_estimators=100, reg_alpha=8, scale_pos_weight=0.5, subsample=0.6 \n",
      "[CV]  gamma=10, learning_rate=0.1, max_delta_step=3, max_depth=7, min_child_weight=6, n_estimators=100, reg_alpha=8, scale_pos_weight=1.5, subsample=0.6, score=0.689931 - 4.0min\n",
      "[CV] gamma=10, learning_rate=0.1, max_delta_step=3, max_depth=4, min_child_weight=6, n_estimators=100, reg_alpha=8, scale_pos_weight=1.5, subsample=0.6 \n",
      "[CV]  gamma=10, learning_rate=0.1, max_delta_step=3, max_depth=7, min_child_weight=6, n_estimators=100, reg_alpha=8, scale_pos_weight=0.5, subsample=0.6, score=0.331594 - 4.0min\n",
      "[CV]  gamma=10, learning_rate=0.1, max_delta_step=3, max_depth=7, min_child_weight=6, n_estimators=100, reg_alpha=8, scale_pos_weight=1.5, subsample=0.6, score=0.685736 - 4.0min\n",
      "[CV] gamma=10, learning_rate=0.1, max_delta_step=3, max_depth=4, min_child_weight=6, n_estimators=100, reg_alpha=8, scale_pos_weight=1.5, subsample=0.6 \n",
      "[CV] gamma=10, learning_rate=0.1, max_delta_step=3, max_depth=4, min_child_weight=6, n_estimators=100, reg_alpha=8, scale_pos_weight=0.5, subsample=0.6 \n",
      "[CV]  gamma=10, learning_rate=0.1, max_delta_step=3, max_depth=7, min_child_weight=6, n_estimators=100, reg_alpha=8, scale_pos_weight=0.5, subsample=0.6, score=0.333105 - 4.0min\n",
      "[CV] gamma=10, learning_rate=0.1, max_delta_step=3, max_depth=4, min_child_weight=6, n_estimators=100, reg_alpha=8, scale_pos_weight=0.5, subsample=0.6 \n",
      "[CV]  gamma=10, learning_rate=0.1, max_delta_step=3, max_depth=4, min_child_weight=6, n_estimators=100, reg_alpha=8, scale_pos_weight=1.5, subsample=0.6, score=0.592383 - 2.2min\n",
      "[CV]  gamma=10, learning_rate=0.1, max_delta_step=3, max_depth=4, min_child_weight=6, n_estimators=100, reg_alpha=8, scale_pos_weight=1.5, subsample=0.6, score=0.598424 - 2.2min\n",
      "[CV]  gamma=10, learning_rate=0.1, max_delta_step=3, max_depth=4, min_child_weight=6, n_estimators=100, reg_alpha=8, scale_pos_weight=0.5, subsample=0.6, score=0.315197 - 2.2min\n",
      "[CV]  gamma=10, learning_rate=0.1, max_delta_step=3, max_depth=4, min_child_weight=6, n_estimators=100, reg_alpha=8, scale_pos_weight=0.5, subsample=0.6, score=0.315267 - 2.2min\n"
     ]
    },
    {
     "name": "stderr",
     "output_type": "stream",
     "text": [
      "[Parallel(n_jobs=-1)]: Done  16 out of  16 | elapsed: 12.6min finished\n"
     ]
    },
    {
     "data": {
      "text/plain": [
       "GridSearchCV(cv=2, error_score='raise',\n",
       "       estimator=XGBClassifier(base_score=0.5, colsample_bylevel=1, colsample_bytree=1,\n",
       "       gamma=0, learning_rate=0.1, max_delta_step=0, max_depth=3,\n",
       "       min_child_weight=1, missing=None, n_estimators=100, nthread=-1,\n",
       "       objective='binary:logistic', reg_alpha=0, reg_lambda=1,\n",
       "       scale_pos_weight=1, seed=0, silent=True, subsample=1),\n",
       "       fit_params={}, iid=True, n_jobs=-1,\n",
       "       param_grid={'learning_rate': [0.01, 0.1], 'n_estimators': [100], 'max_depth': [7, 4], 'scale_pos_weight': [1.5, 0.5], 'max_delta_step': [3], 'gamma': [10], 'min_child_weight': [6], 'subsample': [0.6], 'reg_alpha': [8]},\n",
       "       pre_dispatch='2*n_jobs', refit=True,\n",
       "       scoring=make_scorer(loss_func2), verbose=3)"
      ]
     },
     "execution_count": 58,
     "metadata": {},
     "output_type": "execute_result"
    }
   ],
   "source": [
    "clf.fit(new_Xtrain.values,new_Ytrain.values.ravel())\n",
    "#it's long to run this code ..."
   ]
  },
  {
   "cell_type": "code",
   "execution_count": 59,
   "metadata": {},
   "outputs": [
    {
     "data": {
      "text/plain": [
       "{'gamma': 10,\n",
       " 'learning_rate': 0.1,\n",
       " 'max_delta_step': 3,\n",
       " 'max_depth': 7,\n",
       " 'min_child_weight': 6,\n",
       " 'n_estimators': 100,\n",
       " 'reg_alpha': 8,\n",
       " 'scale_pos_weight': 1.5,\n",
       " 'subsample': 0.6}"
      ]
     },
     "execution_count": 59,
     "metadata": {},
     "output_type": "execute_result"
    }
   ],
   "source": [
    "clf.best_params_"
   ]
  },
  {
   "cell_type": "code",
   "execution_count": 60,
   "metadata": {
    "collapsed": true
   },
   "outputs": [],
   "source": [
    "preds = clf.best_estimator_.predict_proba(X_test.values)"
   ]
  },
  {
   "cell_type": "code",
   "execution_count": 61,
   "metadata": {},
   "outputs": [
    {
     "data": {
      "text/plain": [
       "<matplotlib.legend.Legend at 0x7fa691c6bcc0>"
      ]
     },
     "execution_count": 61,
     "metadata": {},
     "output_type": "execute_result"
    },
    {
     "data": {
      "image/png": "[encoded data removed]",
      "text/plain": [
       "<matplotlib.figure.Figure at 0x7fa692583550>"
      ]
     },
     "metadata": {},
     "output_type": "display_data"
    }
   ],
   "source": [
    "fpr, tpr, _ = roc_curve(Y_test,preds[:,1])\n",
    "roc_auc = auc(fpr, tpr)\n",
    "\n",
    "plt.figure(figsize=(8, 6))\n",
    "plt.plot([0, 1], [0, 1], 'k--')\n",
    "plt.plot(fpr, tpr, label=\"LR (AUC=%.2f)\" % roc_auc, lw=2)\n",
    "plt.xlim([0.0, 1.0])\n",
    "plt.ylim([0.0, 1.05])\n",
    "plt.xlabel('False Positive Rate', fontsize=16)\n",
    "plt.ylabel('True Positive Rate', fontsize=16)\n",
    "plt.title('Receiver operating characteristic', fontsize=18)\n",
    "plt.legend(loc=\"lower right\", fontsize=16)"
   ]
  },
  {
   "cell_type": "code",
   "execution_count": 62,
   "metadata": {},
   "outputs": [
    {
     "name": "stdout",
     "output_type": "stream",
     "text": [
      "             precision    recall  f1-score   support\n",
      "\n",
      "          0       0.97      0.74      0.84    171842\n",
      "          1       0.06      0.42      0.10      6492\n",
      "\n",
      "avg / total       0.94      0.73      0.81    178334\n",
      "\n"
     ]
    }
   ],
   "source": [
    "print(classification_report(Y_test.values,clf.best_estimator_.predict(X_test.values)))\n",
    "#so our score didn't work so well on this gridsearch"
   ]
  },
  {
   "cell_type": "code",
   "execution_count": 63,
   "metadata": {
    "scrolled": true
   },
   "outputs": [
    {
     "name": "stdout",
     "output_type": "stream",
     "text": [
      "0.515275263282\n",
      "3768.0\n"
     ]
    }
   ],
   "source": [
    "print(clf.scorer_(clf.best_estimator_,X_test.values,Y_test.values))\n",
    "print(loss_func(Y_test.values,clf.best_estimator_.predict(X_test.values)))"
   ]
  },
  {
   "cell_type": "markdown",
   "metadata": {},
   "source": [
    "# Conclusion of our first grid Search \n",
    "\n",
    "It's our best model so far we have a really good recall on the $1$ class but we see that in order to obtain this result we had to loss \"precision\" in classifying the $0$'s\n",
    "\n",
    "Let's move on to using this wonderfull grid search algorithm but with random forest this time ! "
   ]
  },
  {
   "cell_type": "code",
   "execution_count": 64,
   "metadata": {
    "collapsed": true
   },
   "outputs": [],
   "source": [
    "parameters = {'n_estimators': [50],\n",
    "              'max_depth': [5,9,11],\n",
    "              'min_samples_leaf': [1,3],\n",
    "              'class_weight': [{0:0.8,1:1},{0:0.9,1:1}],\n",
    "              'criterion' : [\"gini\", \"entropy\"],\n",
    "              'max_leaf_nodes': [None,7]\n",
    "             }\n",
    "              \n",
    "\n",
    "RF = RandomForestClassifier()\n",
    "CLF = GridSearchCV(RF,parameters,n_jobs=-1,scoring=custom_score3,verbose=3,cv=2)"
   ]
  },
  {
   "cell_type": "code",
   "execution_count": 65,
   "metadata": {},
   "outputs": [
    {
     "name": "stdout",
     "output_type": "stream",
     "text": [
      "Fitting 2 folds for each of 48 candidates, totalling 96 fits\n",
      "[CV] class_weight={0: 0.8, 1: 1}, criterion=gini, max_depth=5, max_leaf_nodes=None, min_samples_leaf=1, n_estimators=50 \n",
      "[CV] class_weight={0: 0.8, 1: 1}, criterion=gini, max_depth=5, max_leaf_nodes=None, min_samples_leaf=1, n_estimators=50 \n",
      "[CV] class_weight={0: 0.8, 1: 1}, criterion=gini, max_depth=5, max_leaf_nodes=None, min_samples_leaf=3, n_estimators=50 \n",
      "[CV] class_weight={0: 0.8, 1: 1}, criterion=gini, max_depth=5, max_leaf_nodes=None, min_samples_leaf=3, n_estimators=50 \n",
      "[CV]  class_weight={0: 0.8, 1: 1}, criterion=gini, max_depth=5, max_leaf_nodes=None, min_samples_leaf=1, n_estimators=50, score=0.439175 -  31.0s\n",
      "[CV] class_weight={0: 0.8, 1: 1}, criterion=gini, max_depth=5, max_leaf_nodes=7, min_samples_leaf=1, n_estimators=50 \n",
      "[CV]  class_weight={0: 0.8, 1: 1}, criterion=gini, max_depth=5, max_leaf_nodes=None, min_samples_leaf=3, n_estimators=50, score=0.437456 -  31.0s\n",
      "[CV] class_weight={0: 0.8, 1: 1}, criterion=gini, max_depth=5, max_leaf_nodes=7, min_samples_leaf=1, n_estimators=50 \n",
      "[CV]  class_weight={0: 0.8, 1: 1}, criterion=gini, max_depth=5, max_leaf_nodes=None, min_samples_leaf=1, n_estimators=50, score=0.437516 -  32.1s\n",
      "[CV] class_weight={0: 0.8, 1: 1}, criterion=gini, max_depth=5, max_leaf_nodes=7, min_samples_leaf=3, n_estimators=50 \n",
      "[CV]  class_weight={0: 0.8, 1: 1}, criterion=gini, max_depth=5, max_leaf_nodes=None, min_samples_leaf=3, n_estimators=50, score=0.439177 -  31.9s\n",
      "[CV] class_weight={0: 0.8, 1: 1}, criterion=gini, max_depth=5, max_leaf_nodes=7, min_samples_leaf=3, n_estimators=50 \n",
      "[CV]  class_weight={0: 0.8, 1: 1}, criterion=gini, max_depth=5, max_leaf_nodes=7, min_samples_leaf=1, n_estimators=50, score=0.395810 -  26.0s\n",
      "[CV] class_weight={0: 0.8, 1: 1}, criterion=gini, max_depth=9, max_leaf_nodes=None, min_samples_leaf=1, n_estimators=50 \n",
      "[CV]  class_weight={0: 0.8, 1: 1}, criterion=gini, max_depth=5, max_leaf_nodes=7, min_samples_leaf=1, n_estimators=50, score=0.398374 -  27.4s\n",
      "[CV] class_weight={0: 0.8, 1: 1}, criterion=gini, max_depth=9, max_leaf_nodes=None, min_samples_leaf=1, n_estimators=50 \n",
      "[CV]  class_weight={0: 0.8, 1: 1}, criterion=gini, max_depth=5, max_leaf_nodes=7, min_samples_leaf=3, n_estimators=50, score=0.395810 -  28.2s\n",
      "[CV] class_weight={0: 0.8, 1: 1}, criterion=gini, max_depth=9, max_leaf_nodes=None, min_samples_leaf=3, n_estimators=50 \n",
      "[CV]  class_weight={0: 0.8, 1: 1}, criterion=gini, max_depth=5, max_leaf_nodes=7, min_samples_leaf=3, n_estimators=50, score=0.398374 -  27.3s\n",
      "[CV] class_weight={0: 0.8, 1: 1}, criterion=gini, max_depth=9, max_leaf_nodes=None, min_samples_leaf=3, n_estimators=50 \n",
      "[CV]  class_weight={0: 0.8, 1: 1}, criterion=gini, max_depth=9, max_leaf_nodes=None, min_samples_leaf=1, n_estimators=50, score=0.520630 -  49.3s\n",
      "[CV] class_weight={0: 0.8, 1: 1}, criterion=gini, max_depth=9, max_leaf_nodes=7, min_samples_leaf=1, n_estimators=50 \n",
      "[CV]  class_weight={0: 0.8, 1: 1}, criterion=gini, max_depth=9, max_leaf_nodes=None, min_samples_leaf=1, n_estimators=50, score=0.519109 -  49.5s\n",
      "[CV] class_weight={0: 0.8, 1: 1}, criterion=gini, max_depth=9, max_leaf_nodes=7, min_samples_leaf=1, n_estimators=50 \n",
      "[CV]  class_weight={0: 0.8, 1: 1}, criterion=gini, max_depth=9, max_leaf_nodes=None, min_samples_leaf=3, n_estimators=50, score=0.513997 -  49.8s\n",
      "[CV] class_weight={0: 0.8, 1: 1}, criterion=gini, max_depth=9, max_leaf_nodes=7, min_samples_leaf=3, n_estimators=50 \n",
      "[CV]  class_weight={0: 0.8, 1: 1}, criterion=gini, max_depth=9, max_leaf_nodes=None, min_samples_leaf=3, n_estimators=50, score=0.515867 -  51.6s\n",
      "[CV] class_weight={0: 0.8, 1: 1}, criterion=gini, max_depth=9, max_leaf_nodes=7, min_samples_leaf=3, n_estimators=50 \n",
      "[CV]  class_weight={0: 0.8, 1: 1}, criterion=gini, max_depth=9, max_leaf_nodes=7, min_samples_leaf=1, n_estimators=50, score=0.402144 -  29.7s\n",
      "[CV] class_weight={0: 0.8, 1: 1}, criterion=gini, max_depth=11, max_leaf_nodes=None, min_samples_leaf=1, n_estimators=50 \n",
      "[CV]  class_weight={0: 0.8, 1: 1}, criterion=gini, max_depth=9, max_leaf_nodes=7, min_samples_leaf=3, n_estimators=50, score=0.402144 -  29.6s\n",
      "[CV] class_weight={0: 0.8, 1: 1}, criterion=gini, max_depth=11, max_leaf_nodes=None, min_samples_leaf=1, n_estimators=50 \n",
      "[CV]  class_weight={0: 0.8, 1: 1}, criterion=gini, max_depth=9, max_leaf_nodes=7, min_samples_leaf=1, n_estimators=50, score=0.405744 -  30.9s\n",
      "[CV] class_weight={0: 0.8, 1: 1}, criterion=gini, max_depth=11, max_leaf_nodes=None, min_samples_leaf=3, n_estimators=50 \n",
      "[CV]  class_weight={0: 0.8, 1: 1}, criterion=gini, max_depth=9, max_leaf_nodes=7, min_samples_leaf=3, n_estimators=50, score=0.405744 -  30.4s\n",
      "[CV] class_weight={0: 0.8, 1: 1}, criterion=gini, max_depth=11, max_leaf_nodes=None, min_samples_leaf=3, n_estimators=50 \n",
      "[CV]  class_weight={0: 0.8, 1: 1}, criterion=gini, max_depth=11, max_leaf_nodes=None, min_samples_leaf=1, n_estimators=50, score=0.604478 -  57.9s\n",
      "[CV] class_weight={0: 0.8, 1: 1}, criterion=gini, max_depth=11, max_leaf_nodes=7, min_samples_leaf=1, n_estimators=50 \n",
      "[CV]  class_weight={0: 0.8, 1: 1}, criterion=gini, max_depth=11, max_leaf_nodes=None, min_samples_leaf=3, n_estimators=50, score=0.606980 -  58.6s\n",
      "[CV] class_weight={0: 0.8, 1: 1}, criterion=gini, max_depth=11, max_leaf_nodes=7, min_samples_leaf=1, n_estimators=50 \n",
      "[CV]  class_weight={0: 0.8, 1: 1}, criterion=gini, max_depth=11, max_leaf_nodes=None, min_samples_leaf=1, n_estimators=50, score=0.606028 -  59.7s\n",
      "[CV] class_weight={0: 0.8, 1: 1}, criterion=gini, max_depth=11, max_leaf_nodes=7, min_samples_leaf=3, n_estimators=50 \n",
      "[CV]  class_weight={0: 0.8, 1: 1}, criterion=gini, max_depth=11, max_leaf_nodes=None, min_samples_leaf=3, n_estimators=50, score=0.603105 -  59.4s\n",
      "[CV] class_weight={0: 0.8, 1: 1}, criterion=gini, max_depth=11, max_leaf_nodes=7, min_samples_leaf=3, n_estimators=50 \n",
      "[CV]  class_weight={0: 0.8, 1: 1}, criterion=gini, max_depth=11, max_leaf_nodes=7, min_samples_leaf=1, n_estimators=50, score=0.399517 -  28.7s\n",
      "[CV] class_weight={0: 0.8, 1: 1}, criterion=entropy, max_depth=5, max_leaf_nodes=None, min_samples_leaf=1, n_estimators=50 \n",
      "[CV]  class_weight={0: 0.8, 1: 1}, criterion=gini, max_depth=11, max_leaf_nodes=7, min_samples_leaf=1, n_estimators=50, score=0.403296 -  28.0s\n",
      "[CV] class_weight={0: 0.8, 1: 1}, criterion=entropy, max_depth=5, max_leaf_nodes=None, min_samples_leaf=1, n_estimators=50 \n",
      "[CV]  class_weight={0: 0.8, 1: 1}, criterion=gini, max_depth=11, max_leaf_nodes=7, min_samples_leaf=3, n_estimators=50, score=0.399517 -  28.4s\n",
      "[CV] class_weight={0: 0.8, 1: 1}, criterion=entropy, max_depth=5, max_leaf_nodes=None, min_samples_leaf=3, n_estimators=50 \n",
      "[CV]  class_weight={0: 0.8, 1: 1}, criterion=gini, max_depth=11, max_leaf_nodes=7, min_samples_leaf=3, n_estimators=50, score=0.403296 -  27.4s\n",
      "[CV] class_weight={0: 0.8, 1: 1}, criterion=entropy, max_depth=5, max_leaf_nodes=None, min_samples_leaf=3, n_estimators=50 \n"
     ]
    },
    {
     "name": "stderr",
     "output_type": "stream",
     "text": [
      "[Parallel(n_jobs=-1)]: Done  24 tasks      | elapsed:  3.8min\n"
     ]
    },
    {
     "name": "stdout",
     "output_type": "stream",
     "text": [
      "[CV]  class_weight={0: 0.8, 1: 1}, criterion=entropy, max_depth=5, max_leaf_nodes=None, min_samples_leaf=1, n_estimators=50, score=0.440494 -  32.7s\n",
      "[CV] class_weight={0: 0.8, 1: 1}, criterion=entropy, max_depth=5, max_leaf_nodes=7, min_samples_leaf=1, n_estimators=50 \n",
      "[CV]  class_weight={0: 0.8, 1: 1}, criterion=entropy, max_depth=5, max_leaf_nodes=None, min_samples_leaf=1, n_estimators=50, score=0.440134 -  34.4s\n",
      "[CV] class_weight={0: 0.8, 1: 1}, criterion=entropy, max_depth=5, max_leaf_nodes=7, min_samples_leaf=1, n_estimators=50 \n",
      "[CV]  class_weight={0: 0.8, 1: 1}, criterion=entropy, max_depth=5, max_leaf_nodes=None, min_samples_leaf=3, n_estimators=50, score=0.440492 -  34.6s\n",
      "[CV] class_weight={0: 0.8, 1: 1}, criterion=entropy, max_depth=5, max_leaf_nodes=7, min_samples_leaf=3, n_estimators=50 \n",
      "[CV]  class_weight={0: 0.8, 1: 1}, criterion=entropy, max_depth=5, max_leaf_nodes=None, min_samples_leaf=3, n_estimators=50, score=0.439651 -  34.9s\n",
      "[CV] class_weight={0: 0.8, 1: 1}, criterion=entropy, max_depth=5, max_leaf_nodes=7, min_samples_leaf=3, n_estimators=50 \n",
      "[CV]  class_weight={0: 0.8, 1: 1}, criterion=entropy, max_depth=5, max_leaf_nodes=7, min_samples_leaf=1, n_estimators=50, score=0.402673 -  28.3s\n",
      "[CV] class_weight={0: 0.8, 1: 1}, criterion=entropy, max_depth=9, max_leaf_nodes=None, min_samples_leaf=1, n_estimators=50 \n",
      "[CV]  class_weight={0: 0.8, 1: 1}, criterion=entropy, max_depth=5, max_leaf_nodes=7, min_samples_leaf=1, n_estimators=50, score=0.402314 -  27.9s\n",
      "[CV] class_weight={0: 0.8, 1: 1}, criterion=entropy, max_depth=9, max_leaf_nodes=None, min_samples_leaf=1, n_estimators=50 \n",
      "[CV]  class_weight={0: 0.8, 1: 1}, criterion=entropy, max_depth=5, max_leaf_nodes=7, min_samples_leaf=3, n_estimators=50, score=0.402673 -  27.8s\n",
      "[CV] class_weight={0: 0.8, 1: 1}, criterion=entropy, max_depth=9, max_leaf_nodes=None, min_samples_leaf=3, n_estimators=50 \n",
      "[CV]  class_weight={0: 0.8, 1: 1}, criterion=entropy, max_depth=5, max_leaf_nodes=7, min_samples_leaf=3, n_estimators=50, score=0.402314 -  29.3s\n",
      "[CV] class_weight={0: 0.8, 1: 1}, criterion=entropy, max_depth=9, max_leaf_nodes=None, min_samples_leaf=3, n_estimators=50 \n",
      "[CV]  class_weight={0: 0.8, 1: 1}, criterion=entropy, max_depth=9, max_leaf_nodes=None, min_samples_leaf=1, n_estimators=50, score=0.515371 -  53.9s\n",
      "[CV] class_weight={0: 0.8, 1: 1}, criterion=entropy, max_depth=9, max_leaf_nodes=7, min_samples_leaf=1, n_estimators=50 \n",
      "[CV]  class_weight={0: 0.8, 1: 1}, criterion=entropy, max_depth=9, max_leaf_nodes=None, min_samples_leaf=1, n_estimators=50, score=0.514148 -  49.7s\n",
      "[CV] class_weight={0: 0.8, 1: 1}, criterion=entropy, max_depth=9, max_leaf_nodes=7, min_samples_leaf=1, n_estimators=50 \n",
      "[CV]  class_weight={0: 0.8, 1: 1}, criterion=entropy, max_depth=9, max_leaf_nodes=None, min_samples_leaf=3, n_estimators=50, score=0.515699 -  52.4s\n",
      "[CV] class_weight={0: 0.8, 1: 1}, criterion=entropy, max_depth=9, max_leaf_nodes=7, min_samples_leaf=3, n_estimators=50 \n",
      "[CV]  class_weight={0: 0.8, 1: 1}, criterion=entropy, max_depth=9, max_leaf_nodes=None, min_samples_leaf=3, n_estimators=50, score=0.513623 -  52.9s\n",
      "[CV] class_weight={0: 0.8, 1: 1}, criterion=entropy, max_depth=9, max_leaf_nodes=7, min_samples_leaf=3, n_estimators=50 \n",
      "[CV]  class_weight={0: 0.8, 1: 1}, criterion=entropy, max_depth=9, max_leaf_nodes=7, min_samples_leaf=1, n_estimators=50, score=0.408007 -  28.4s\n",
      "[CV] class_weight={0: 0.8, 1: 1}, criterion=entropy, max_depth=11, max_leaf_nodes=None, min_samples_leaf=1, n_estimators=50 \n",
      "[CV]  class_weight={0: 0.8, 1: 1}, criterion=entropy, max_depth=9, max_leaf_nodes=7, min_samples_leaf=1, n_estimators=50, score=0.408401 -  29.5s\n",
      "[CV] class_weight={0: 0.8, 1: 1}, criterion=entropy, max_depth=11, max_leaf_nodes=None, min_samples_leaf=1, n_estimators=50 \n",
      "[CV]  class_weight={0: 0.8, 1: 1}, criterion=entropy, max_depth=9, max_leaf_nodes=7, min_samples_leaf=3, n_estimators=50, score=0.408401 -  30.3s\n",
      "[CV] class_weight={0: 0.8, 1: 1}, criterion=entropy, max_depth=11, max_leaf_nodes=None, min_samples_leaf=3, n_estimators=50 \n",
      "[CV]  class_weight={0: 0.8, 1: 1}, criterion=entropy, max_depth=9, max_leaf_nodes=7, min_samples_leaf=3, n_estimators=50, score=0.408007 -  29.1s\n",
      "[CV] class_weight={0: 0.8, 1: 1}, criterion=entropy, max_depth=11, max_leaf_nodes=None, min_samples_leaf=3, n_estimators=50 \n",
      "[CV]  class_weight={0: 0.8, 1: 1}, criterion=entropy, max_depth=11, max_leaf_nodes=None, min_samples_leaf=1, n_estimators=50, score=0.596589 - 1.0min\n",
      "[CV] class_weight={0: 0.8, 1: 1}, criterion=entropy, max_depth=11, max_leaf_nodes=7, min_samples_leaf=1, n_estimators=50 \n",
      "[CV]  class_weight={0: 0.8, 1: 1}, criterion=entropy, max_depth=11, max_leaf_nodes=None, min_samples_leaf=1, n_estimators=50, score=0.592284 - 1.0min\n",
      "[CV] class_weight={0: 0.8, 1: 1}, criterion=entropy, max_depth=11, max_leaf_nodes=7, min_samples_leaf=1, n_estimators=50 \n",
      "[CV]  class_weight={0: 0.8, 1: 1}, criterion=entropy, max_depth=11, max_leaf_nodes=None, min_samples_leaf=3, n_estimators=50, score=0.592805 -  60.0s\n",
      "[CV] class_weight={0: 0.8, 1: 1}, criterion=entropy, max_depth=11, max_leaf_nodes=7, min_samples_leaf=3, n_estimators=50 \n",
      "[CV]  class_weight={0: 0.8, 1: 1}, criterion=entropy, max_depth=11, max_leaf_nodes=None, min_samples_leaf=3, n_estimators=50, score=0.589546 - 1.0min\n",
      "[CV] class_weight={0: 0.8, 1: 1}, criterion=entropy, max_depth=11, max_leaf_nodes=7, min_samples_leaf=3, n_estimators=50 \n",
      "[CV]  class_weight={0: 0.8, 1: 1}, criterion=entropy, max_depth=11, max_leaf_nodes=7, min_samples_leaf=1, n_estimators=50, score=0.401618 -  27.1s\n",
      "[CV] class_weight={0: 0.9, 1: 1}, criterion=gini, max_depth=5, max_leaf_nodes=None, min_samples_leaf=1, n_estimators=50 \n",
      "[CV]  class_weight={0: 0.8, 1: 1}, criterion=entropy, max_depth=11, max_leaf_nodes=7, min_samples_leaf=1, n_estimators=50, score=0.406397 -  27.2s\n",
      "[CV] class_weight={0: 0.9, 1: 1}, criterion=gini, max_depth=5, max_leaf_nodes=None, min_samples_leaf=1, n_estimators=50 \n",
      "[CV]  class_weight={0: 0.8, 1: 1}, criterion=entropy, max_depth=11, max_leaf_nodes=7, min_samples_leaf=3, n_estimators=50, score=0.401618 -  25.9s\n",
      "[CV] class_weight={0: 0.9, 1: 1}, criterion=gini, max_depth=5, max_leaf_nodes=None, min_samples_leaf=3, n_estimators=50 \n",
      "[CV]  class_weight={0: 0.8, 1: 1}, criterion=entropy, max_depth=11, max_leaf_nodes=7, min_samples_leaf=3, n_estimators=50, score=0.406397 -  26.1s\n",
      "[CV] class_weight={0: 0.9, 1: 1}, criterion=gini, max_depth=5, max_leaf_nodes=None, min_samples_leaf=3, n_estimators=50 \n",
      "[CV]  class_weight={0: 0.9, 1: 1}, criterion=gini, max_depth=5, max_leaf_nodes=None, min_samples_leaf=1, n_estimators=50, score=0.383233 -  30.3s\n",
      "[CV] class_weight={0: 0.9, 1: 1}, criterion=gini, max_depth=5, max_leaf_nodes=7, min_samples_leaf=1, n_estimators=50 \n",
      "[CV]  class_weight={0: 0.9, 1: 1}, criterion=gini, max_depth=5, max_leaf_nodes=None, min_samples_leaf=1, n_estimators=50, score=0.379710 -  32.1s\n",
      "[CV] class_weight={0: 0.9, 1: 1}, criterion=gini, max_depth=5, max_leaf_nodes=7, min_samples_leaf=1, n_estimators=50 \n",
      "[CV]  class_weight={0: 0.9, 1: 1}, criterion=gini, max_depth=5, max_leaf_nodes=None, min_samples_leaf=3, n_estimators=50, score=0.379651 -  30.4s\n",
      "[CV] class_weight={0: 0.9, 1: 1}, criterion=gini, max_depth=5, max_leaf_nodes=7, min_samples_leaf=3, n_estimators=50 \n",
      "[CV]  class_weight={0: 0.9, 1: 1}, criterion=gini, max_depth=5, max_leaf_nodes=None, min_samples_leaf=3, n_estimators=50, score=0.383233 -  30.5s\n",
      "[CV] class_weight={0: 0.9, 1: 1}, criterion=gini, max_depth=5, max_leaf_nodes=7, min_samples_leaf=3, n_estimators=50 \n",
      "[CV]  class_weight={0: 0.9, 1: 1}, criterion=gini, max_depth=5, max_leaf_nodes=7, min_samples_leaf=1, n_estimators=50, score=0.329256 -  24.7s\n",
      "[CV] class_weight={0: 0.9, 1: 1}, criterion=gini, max_depth=9, max_leaf_nodes=None, min_samples_leaf=1, n_estimators=50 \n",
      "[CV]  class_weight={0: 0.9, 1: 1}, criterion=gini, max_depth=5, max_leaf_nodes=7, min_samples_leaf=1, n_estimators=50, score=0.329007 -  25.1s\n",
      "[CV] class_weight={0: 0.9, 1: 1}, criterion=gini, max_depth=9, max_leaf_nodes=None, min_samples_leaf=1, n_estimators=50 \n",
      "[CV]  class_weight={0: 0.9, 1: 1}, criterion=gini, max_depth=5, max_leaf_nodes=7, min_samples_leaf=3, n_estimators=50, score=0.329007 -  25.5s\n"
     ]
    },
    {
     "name": "stdout",
     "output_type": "stream",
     "text": [
      "[CV] class_weight={0: 0.9, 1: 1}, criterion=gini, max_depth=9, max_leaf_nodes=None, min_samples_leaf=3, n_estimators=50 \n",
      "[CV]  class_weight={0: 0.9, 1: 1}, criterion=gini, max_depth=5, max_leaf_nodes=7, min_samples_leaf=3, n_estimators=50, score=0.329256 -  25.6s\n",
      "[CV] class_weight={0: 0.9, 1: 1}, criterion=gini, max_depth=9, max_leaf_nodes=None, min_samples_leaf=3, n_estimators=50 \n",
      "[CV]  class_weight={0: 0.9, 1: 1}, criterion=gini, max_depth=9, max_leaf_nodes=None, min_samples_leaf=1, n_estimators=50, score=0.458396 -  46.9s\n",
      "[CV] class_weight={0: 0.9, 1: 1}, criterion=gini, max_depth=9, max_leaf_nodes=7, min_samples_leaf=1, n_estimators=50 \n",
      "[CV]  class_weight={0: 0.9, 1: 1}, criterion=gini, max_depth=9, max_leaf_nodes=None, min_samples_leaf=1, n_estimators=50, score=0.461752 -  47.7s\n",
      "[CV] class_weight={0: 0.9, 1: 1}, criterion=gini, max_depth=9, max_leaf_nodes=7, min_samples_leaf=1, n_estimators=50 \n",
      "[CV]  class_weight={0: 0.9, 1: 1}, criterion=gini, max_depth=9, max_leaf_nodes=None, min_samples_leaf=3, n_estimators=50, score=0.459584 -  46.1s\n",
      "[CV] class_weight={0: 0.9, 1: 1}, criterion=gini, max_depth=9, max_leaf_nodes=7, min_samples_leaf=3, n_estimators=50 \n",
      "[CV]  class_weight={0: 0.9, 1: 1}, criterion=gini, max_depth=9, max_leaf_nodes=None, min_samples_leaf=3, n_estimators=50, score=0.461976 -  46.2s\n",
      "[CV] class_weight={0: 0.9, 1: 1}, criterion=gini, max_depth=9, max_leaf_nodes=7, min_samples_leaf=3, n_estimators=50 \n",
      "[CV]  class_weight={0: 0.9, 1: 1}, criterion=gini, max_depth=9, max_leaf_nodes=7, min_samples_leaf=1, n_estimators=50, score=0.339105 -  25.0s\n",
      "[CV] class_weight={0: 0.9, 1: 1}, criterion=gini, max_depth=11, max_leaf_nodes=None, min_samples_leaf=1, n_estimators=50 \n",
      "[CV]  class_weight={0: 0.9, 1: 1}, criterion=gini, max_depth=9, max_leaf_nodes=7, min_samples_leaf=3, n_estimators=50, score=0.335534 -  24.6s\n",
      "[CV] class_weight={0: 0.9, 1: 1}, criterion=gini, max_depth=11, max_leaf_nodes=None, min_samples_leaf=1, n_estimators=50 \n",
      "[CV]  class_weight={0: 0.9, 1: 1}, criterion=gini, max_depth=9, max_leaf_nodes=7, min_samples_leaf=1, n_estimators=50, score=0.335534 -  26.3s\n",
      "[CV] class_weight={0: 0.9, 1: 1}, criterion=gini, max_depth=11, max_leaf_nodes=None, min_samples_leaf=3, n_estimators=50 \n",
      "[CV]  class_weight={0: 0.9, 1: 1}, criterion=gini, max_depth=9, max_leaf_nodes=7, min_samples_leaf=3, n_estimators=50, score=0.339105 -  24.8s\n",
      "[CV] class_weight={0: 0.9, 1: 1}, criterion=gini, max_depth=11, max_leaf_nodes=None, min_samples_leaf=3, n_estimators=50 \n",
      "[CV]  class_weight={0: 0.9, 1: 1}, criterion=gini, max_depth=11, max_leaf_nodes=None, min_samples_leaf=1, n_estimators=50, score=0.543998 -  52.1s\n",
      "[CV] class_weight={0: 0.9, 1: 1}, criterion=gini, max_depth=11, max_leaf_nodes=7, min_samples_leaf=1, n_estimators=50 \n",
      "[CV]  class_weight={0: 0.9, 1: 1}, criterion=gini, max_depth=11, max_leaf_nodes=None, min_samples_leaf=3, n_estimators=50, score=0.545421 -  52.4s\n",
      "[CV] class_weight={0: 0.9, 1: 1}, criterion=gini, max_depth=11, max_leaf_nodes=7, min_samples_leaf=1, n_estimators=50 \n",
      "[CV]  class_weight={0: 0.9, 1: 1}, criterion=gini, max_depth=11, max_leaf_nodes=None, min_samples_leaf=1, n_estimators=50, score=0.542132 -  54.1s\n",
      "[CV] class_weight={0: 0.9, 1: 1}, criterion=gini, max_depth=11, max_leaf_nodes=7, min_samples_leaf=3, n_estimators=50 \n",
      "[CV]  class_weight={0: 0.9, 1: 1}, criterion=gini, max_depth=11, max_leaf_nodes=None, min_samples_leaf=3, n_estimators=50, score=0.540421 -  51.9s\n",
      "[CV] class_weight={0: 0.9, 1: 1}, criterion=gini, max_depth=11, max_leaf_nodes=7, min_samples_leaf=3, n_estimators=50 \n",
      "[CV]  class_weight={0: 0.9, 1: 1}, criterion=gini, max_depth=11, max_leaf_nodes=7, min_samples_leaf=1, n_estimators=50, score=0.347403 -  25.0s\n",
      "[CV] class_weight={0: 0.9, 1: 1}, criterion=entropy, max_depth=5, max_leaf_nodes=None, min_samples_leaf=1, n_estimators=50 \n",
      "[CV]  class_weight={0: 0.9, 1: 1}, criterion=gini, max_depth=11, max_leaf_nodes=7, min_samples_leaf=1, n_estimators=50, score=0.347265 -  25.0s\n",
      "[CV] class_weight={0: 0.9, 1: 1}, criterion=entropy, max_depth=5, max_leaf_nodes=None, min_samples_leaf=1, n_estimators=50 \n",
      "[CV]  class_weight={0: 0.9, 1: 1}, criterion=gini, max_depth=11, max_leaf_nodes=7, min_samples_leaf=3, n_estimators=50, score=0.347403 -  25.1s\n",
      "[CV] class_weight={0: 0.9, 1: 1}, criterion=entropy, max_depth=5, max_leaf_nodes=None, min_samples_leaf=3, n_estimators=50 \n",
      "[CV]  class_weight={0: 0.9, 1: 1}, criterion=gini, max_depth=11, max_leaf_nodes=7, min_samples_leaf=3, n_estimators=50, score=0.347265 -  26.3s\n",
      "[CV] class_weight={0: 0.9, 1: 1}, criterion=entropy, max_depth=5, max_leaf_nodes=None, min_samples_leaf=3, n_estimators=50 \n",
      "[CV]  class_weight={0: 0.9, 1: 1}, criterion=entropy, max_depth=5, max_leaf_nodes=None, min_samples_leaf=1, n_estimators=50, score=0.377360 -  32.7s\n",
      "[CV] class_weight={0: 0.9, 1: 1}, criterion=entropy, max_depth=5, max_leaf_nodes=7, min_samples_leaf=1, n_estimators=50 \n",
      "[CV]  class_weight={0: 0.9, 1: 1}, criterion=entropy, max_depth=5, max_leaf_nodes=None, min_samples_leaf=1, n_estimators=50, score=0.377571 -  32.9s\n",
      "[CV] class_weight={0: 0.9, 1: 1}, criterion=entropy, max_depth=5, max_leaf_nodes=7, min_samples_leaf=1, n_estimators=50 \n",
      "[CV]  class_weight={0: 0.9, 1: 1}, criterion=entropy, max_depth=5, max_leaf_nodes=None, min_samples_leaf=3, n_estimators=50, score=0.377360 -  32.3s\n",
      "[CV] class_weight={0: 0.9, 1: 1}, criterion=entropy, max_depth=5, max_leaf_nodes=7, min_samples_leaf=3, n_estimators=50 \n",
      "[CV]  class_weight={0: 0.9, 1: 1}, criterion=entropy, max_depth=5, max_leaf_nodes=None, min_samples_leaf=3, n_estimators=50, score=0.377571 -  33.6s\n",
      "[CV] class_weight={0: 0.9, 1: 1}, criterion=entropy, max_depth=5, max_leaf_nodes=7, min_samples_leaf=3, n_estimators=50 \n",
      "[CV]  class_weight={0: 0.9, 1: 1}, criterion=entropy, max_depth=5, max_leaf_nodes=7, min_samples_leaf=1, n_estimators=50, score=0.331991 -  26.6s\n",
      "[CV] class_weight={0: 0.9, 1: 1}, criterion=entropy, max_depth=9, max_leaf_nodes=None, min_samples_leaf=1, n_estimators=50 \n",
      "[CV]  class_weight={0: 0.9, 1: 1}, criterion=entropy, max_depth=5, max_leaf_nodes=7, min_samples_leaf=1, n_estimators=50, score=0.331410 -  28.6s\n",
      "[CV] class_weight={0: 0.9, 1: 1}, criterion=entropy, max_depth=9, max_leaf_nodes=None, min_samples_leaf=1, n_estimators=50 \n",
      "[CV]  class_weight={0: 0.9, 1: 1}, criterion=entropy, max_depth=5, max_leaf_nodes=7, min_samples_leaf=3, n_estimators=50, score=0.331410 -  27.6s\n",
      "[CV] class_weight={0: 0.9, 1: 1}, criterion=entropy, max_depth=9, max_leaf_nodes=None, min_samples_leaf=3, n_estimators=50 \n",
      "[CV]  class_weight={0: 0.9, 1: 1}, criterion=entropy, max_depth=5, max_leaf_nodes=7, min_samples_leaf=3, n_estimators=50, score=0.331991 -  27.2s\n",
      "[CV] class_weight={0: 0.9, 1: 1}, criterion=entropy, max_depth=9, max_leaf_nodes=None, min_samples_leaf=3, n_estimators=50 \n",
      "[CV]  class_weight={0: 0.9, 1: 1}, criterion=entropy, max_depth=9, max_leaf_nodes=None, min_samples_leaf=1, n_estimators=50, score=0.454780 -  49.8s\n",
      "[CV] class_weight={0: 0.9, 1: 1}, criterion=entropy, max_depth=9, max_leaf_nodes=7, min_samples_leaf=1, n_estimators=50 \n",
      "[CV]  class_weight={0: 0.9, 1: 1}, criterion=entropy, max_depth=9, max_leaf_nodes=None, min_samples_leaf=1, n_estimators=50, score=0.461183 -  51.0s\n",
      "[CV] class_weight={0: 0.9, 1: 1}, criterion=entropy, max_depth=9, max_leaf_nodes=7, min_samples_leaf=1, n_estimators=50 \n",
      "[CV]  class_weight={0: 0.9, 1: 1}, criterion=entropy, max_depth=9, max_leaf_nodes=None, min_samples_leaf=3, n_estimators=50, score=0.456713 -  50.2s\n",
      "[CV] class_weight={0: 0.9, 1: 1}, criterion=entropy, max_depth=9, max_leaf_nodes=7, min_samples_leaf=3, n_estimators=50 \n",
      "[CV]  class_weight={0: 0.9, 1: 1}, criterion=entropy, max_depth=9, max_leaf_nodes=None, min_samples_leaf=3, n_estimators=50, score=0.458964 -  49.6s\n",
      "[CV] class_weight={0: 0.9, 1: 1}, criterion=entropy, max_depth=9, max_leaf_nodes=7, min_samples_leaf=3, n_estimators=50 \n",
      "[CV]  class_weight={0: 0.9, 1: 1}, criterion=entropy, max_depth=9, max_leaf_nodes=7, min_samples_leaf=1, n_estimators=50, score=0.334605 -  25.8s\n",
      "[CV] class_weight={0: 0.9, 1: 1}, criterion=entropy, max_depth=11, max_leaf_nodes=None, min_samples_leaf=1, n_estimators=50 \n",
      "[CV]  class_weight={0: 0.9, 1: 1}, criterion=entropy, max_depth=9, max_leaf_nodes=7, min_samples_leaf=1, n_estimators=50, score=0.337687 -  25.4s\n"
     ]
    },
    {
     "name": "stdout",
     "output_type": "stream",
     "text": [
      "[CV] class_weight={0: 0.9, 1: 1}, criterion=entropy, max_depth=11, max_leaf_nodes=None, min_samples_leaf=1, n_estimators=50 \n",
      "[CV]  class_weight={0: 0.9, 1: 1}, criterion=entropy, max_depth=9, max_leaf_nodes=7, min_samples_leaf=3, n_estimators=50, score=0.334605 -  25.5s\n",
      "[CV] class_weight={0: 0.9, 1: 1}, criterion=entropy, max_depth=11, max_leaf_nodes=None, min_samples_leaf=3, n_estimators=50 \n",
      "[CV]  class_weight={0: 0.9, 1: 1}, criterion=entropy, max_depth=9, max_leaf_nodes=7, min_samples_leaf=3, n_estimators=50, score=0.337687 -  25.5s\n",
      "[CV] class_weight={0: 0.9, 1: 1}, criterion=entropy, max_depth=11, max_leaf_nodes=None, min_samples_leaf=3, n_estimators=50 \n",
      "[CV]  class_weight={0: 0.9, 1: 1}, criterion=entropy, max_depth=11, max_leaf_nodes=None, min_samples_leaf=1, n_estimators=50, score=0.526325 -  52.2s\n",
      "[CV] class_weight={0: 0.9, 1: 1}, criterion=entropy, max_depth=11, max_leaf_nodes=7, min_samples_leaf=1, n_estimators=50 \n",
      "[CV]  class_weight={0: 0.9, 1: 1}, criterion=entropy, max_depth=11, max_leaf_nodes=None, min_samples_leaf=1, n_estimators=50, score=0.529942 -  54.1s\n",
      "[CV] class_weight={0: 0.9, 1: 1}, criterion=entropy, max_depth=11, max_leaf_nodes=7, min_samples_leaf=1, n_estimators=50 \n",
      "[CV]  class_weight={0: 0.9, 1: 1}, criterion=entropy, max_depth=11, max_leaf_nodes=None, min_samples_leaf=3, n_estimators=50, score=0.526875 -  53.7s\n",
      "[CV] class_weight={0: 0.9, 1: 1}, criterion=entropy, max_depth=11, max_leaf_nodes=7, min_samples_leaf=3, n_estimators=50 \n",
      "[CV]  class_weight={0: 0.9, 1: 1}, criterion=entropy, max_depth=11, max_leaf_nodes=None, min_samples_leaf=3, n_estimators=50, score=0.525486 -  51.5s\n",
      "[CV] class_weight={0: 0.9, 1: 1}, criterion=entropy, max_depth=11, max_leaf_nodes=7, min_samples_leaf=3, n_estimators=50 \n",
      "[CV]  class_weight={0: 0.9, 1: 1}, criterion=entropy, max_depth=11, max_leaf_nodes=7, min_samples_leaf=1, n_estimators=50, score=0.333668 -  23.8s\n",
      "[CV]  class_weight={0: 0.9, 1: 1}, criterion=entropy, max_depth=11, max_leaf_nodes=7, min_samples_leaf=1, n_estimators=50, score=0.334086 -  23.4s\n",
      "[CV]  class_weight={0: 0.9, 1: 1}, criterion=entropy, max_depth=11, max_leaf_nodes=7, min_samples_leaf=3, n_estimators=50, score=0.333668 -  23.9s\n",
      "[CV]  class_weight={0: 0.9, 1: 1}, criterion=entropy, max_depth=11, max_leaf_nodes=7, min_samples_leaf=3, n_estimators=50, score=0.334086 -  23.3s\n"
     ]
    },
    {
     "name": "stderr",
     "output_type": "stream",
     "text": [
      "[Parallel(n_jobs=-1)]: Done  96 out of  96 | elapsed: 14.7min finished\n"
     ]
    },
    {
     "data": {
      "text/plain": [
       "GridSearchCV(cv=2, error_score='raise',\n",
       "       estimator=RandomForestClassifier(bootstrap=True, class_weight=None, criterion='gini',\n",
       "            max_depth=None, max_features='auto', max_leaf_nodes=None,\n",
       "            min_impurity_decrease=0.0, min_impurity_split=None,\n",
       "            min_samples_leaf=1, min_samples_split=2,\n",
       "            min_weight_fraction_leaf=0.0, n_estimators=10, n_jobs=1,\n",
       "            oob_score=False, random_state=None, verbose=0,\n",
       "            warm_start=False),\n",
       "       fit_params={}, iid=True, n_jobs=-1,\n",
       "       param_grid={'n_estimators': [50], 'max_depth': [5, 9, 11], 'min_samples_leaf': [1, 3], 'class_weight': [{0: 0.8, 1: 1}, {0: 0.9, 1: 1}], 'criterion': ['gini', 'entropy'], 'max_leaf_nodes': [None, 7]},\n",
       "       pre_dispatch='2*n_jobs', refit=True,\n",
       "       scoring=make_scorer(loss_func2), verbose=3)"
      ]
     },
     "execution_count": 65,
     "metadata": {},
     "output_type": "execute_result"
    }
   ],
   "source": [
    "CLF.fit(new_Xtrain.values,new_Ytrain.values.ravel())"
   ]
  },
  {
   "cell_type": "code",
   "execution_count": 66,
   "metadata": {},
   "outputs": [
    {
     "data": {
      "text/plain": [
       "RandomForestClassifier(bootstrap=True, class_weight={0: 0.8, 1: 1},\n",
       "            criterion='gini', max_depth=11, max_features='auto',\n",
       "            max_leaf_nodes=None, min_impurity_decrease=0.0,\n",
       "            min_impurity_split=None, min_samples_leaf=1,\n",
       "            min_samples_split=2, min_weight_fraction_leaf=0.0,\n",
       "            n_estimators=50, n_jobs=1, oob_score=False, random_state=None,\n",
       "            verbose=0, warm_start=False)"
      ]
     },
     "execution_count": 66,
     "metadata": {},
     "output_type": "execute_result"
    }
   ],
   "source": [
    "CLF.best_estimator_"
   ]
  },
  {
   "cell_type": "code",
   "execution_count": 67,
   "metadata": {},
   "outputs": [
    {
     "data": {
      "text/plain": [
       "0.6052531907805232"
      ]
     },
     "execution_count": 67,
     "metadata": {},
     "output_type": "execute_result"
    }
   ],
   "source": [
    "CLF.best_score_"
   ]
  },
  {
   "cell_type": "code",
   "execution_count": 68,
   "metadata": {
    "collapsed": true
   },
   "outputs": [],
   "source": [
    "preds = CLF.best_estimator_.predict_proba(X_test.values)"
   ]
  },
  {
   "cell_type": "code",
   "execution_count": 69,
   "metadata": {},
   "outputs": [
    {
     "data": {
      "text/plain": [
       "<matplotlib.legend.Legend at 0x7fa681456a58>"
      ]
     },
     "execution_count": 69,
     "metadata": {},
     "output_type": "execute_result"
    },
    {
     "data": {
      "image/png": "[encoded data removed]",
      "text/plain": [
       "<matplotlib.figure.Figure at 0x7fa6925be358>"
      ]
     },
     "metadata": {},
     "output_type": "display_data"
    }
   ],
   "source": [
    "fpr, tpr, _ = roc_curve(Y_test,preds[:,1])\n",
    "roc_auc = auc(fpr, tpr)\n",
    "\n",
    "plt.figure(figsize=(8, 6))\n",
    "plt.plot([0, 1], [0, 1], 'k--')\n",
    "plt.plot(fpr, tpr, label=\"LR (AUC=%.2f)\" % roc_auc, lw=2)\n",
    "plt.xlim([0.0, 1.0])\n",
    "plt.ylim([0.0, 1.05])\n",
    "plt.xlabel('False Positive Rate', fontsize=16)\n",
    "plt.ylabel('True Positive Rate', fontsize=16)\n",
    "plt.title('Receiver operating characteristic', fontsize=18)\n",
    "plt.legend(loc=\"lower right\", fontsize=16)"
   ]
  },
  {
   "cell_type": "code",
   "execution_count": 70,
   "metadata": {},
   "outputs": [
    {
     "name": "stdout",
     "output_type": "stream",
     "text": [
      "             precision    recall  f1-score   support\n",
      "\n",
      "          0       0.97      0.90      0.93    171842\n",
      "          1       0.07      0.19      0.10      6492\n",
      "\n",
      "avg / total       0.93      0.88      0.90    178334\n",
      "\n"
     ]
    }
   ],
   "source": [
    "print(classification_report(Y_test.values,CLF.best_estimator_.predict(X_test.values)))\n",
    "#not so bad but we see that we have to make a compromise etween classifing the 1 or the 0 correctly..."
   ]
  },
  {
   "cell_type": "code",
   "execution_count": 71,
   "metadata": {},
   "outputs": [
    {
     "name": "stderr",
     "output_type": "stream",
     "text": [
      "/home/zagdoun/anaconda2/envs/tensorflow3/lib/python3.6/site-packages/sklearn/utils/validation.py:547: DataConversionWarning: A column-vector y was passed when a 1d array was expected. Please change the shape of y to (n_samples, ), for example using ravel().\n",
      "  y = column_or_1d(y, warn=True)\n"
     ]
    },
    {
     "data": {
      "text/plain": [
       "AdaBoostClassifier(algorithm='SAMME.R',\n",
       "          base_estimator=RandomForestClassifier(bootstrap=True, class_weight={0: 0.8, 1: 1},\n",
       "            criterion='gini', max_depth=11, max_features='auto',\n",
       "            max_leaf_nodes=None, min_impurity_decrease=0.0,\n",
       "            min_impurity_split=None, min_samples_leaf=1,\n",
       "            min_samples_split=2, min_weight_fraction_leaf=0.0,\n",
       "            n_estimators=50, n_jobs=1, oob_score=False, random_state=None,\n",
       "            verbose=0, warm_start=False),\n",
       "          learning_rate=1.0, n_estimators=50, random_state=None)"
      ]
     },
     "execution_count": 71,
     "metadata": {},
     "output_type": "execute_result"
    }
   ],
   "source": [
    "#idea : maybe by taking adaboost but with our best estimator we will find a good result!!!\n",
    "adabst = AdaBoostClassifier(base_estimator=CLF.best_estimator_)\n",
    "adabst.fit(new_Xtrain,new_Ytrain)\n",
    "#it's really long to train"
   ]
  },
  {
   "cell_type": "code",
   "execution_count": 72,
   "metadata": {},
   "outputs": [
    {
     "data": {
      "text/plain": [
       "<matplotlib.legend.Legend at 0x7fa6813e3dd8>"
      ]
     },
     "execution_count": 72,
     "metadata": {},
     "output_type": "execute_result"
    },
    {
     "data": {
      "image/png": "[encoded data removed]",
      "text/plain": [
       "<matplotlib.figure.Figure at 0x7fa6925b6be0>"
      ]
     },
     "metadata": {},
     "output_type": "display_data"
    }
   ],
   "source": [
    "fpr, tpr, _ = roc_curve(Y_test,adabst.predict_proba(X_test)[:,1])\n",
    "roc_auc = auc(fpr, tpr)\n",
    "\n",
    "plt.figure(figsize=(8, 6))\n",
    "plt.plot([0, 1], [0, 1], 'k--')\n",
    "plt.plot(fpr, tpr, label=\"LR (AUC=%.2f)\" % roc_auc, lw=2)\n",
    "plt.xlim([0.0, 1.0])\n",
    "plt.ylim([0.0, 1.05])\n",
    "plt.xlabel('False Positive Rate', fontsize=16)\n",
    "plt.ylabel('True Positive Rate', fontsize=16)\n",
    "plt.title('Receiver operating characteristic', fontsize=18)\n",
    "plt.legend(loc=\"lower right\", fontsize=16)"
   ]
  },
  {
   "cell_type": "code",
   "execution_count": 73,
   "metadata": {},
   "outputs": [
    {
     "name": "stdout",
     "output_type": "stream",
     "text": [
      "             precision    recall  f1-score   support\n",
      "\n",
      "          0       0.96      1.00      0.98    171842\n",
      "          1       0.18      0.00      0.01      6492\n",
      "\n",
      "avg / total       0.94      0.96      0.95    178334\n",
      "\n"
     ]
    }
   ],
   "source": [
    "print(classification_report(Y_test,adabst.predict(X_test)))\n",
    "#really bad idea ... it's long and wrong...."
   ]
  },
  {
   "cell_type": "code",
   "execution_count": 74,
   "metadata": {
    "collapsed": true
   },
   "outputs": [],
   "source": [
    "#let's train decision tree classifier as seen in class \n",
    "DT = DecisionTreeClassifier()\n",
    "\n",
    "parameters = {\n",
    "    'criterion': ['gini','entropy'],\n",
    "    'max_depth': [3,5,9,11],\n",
    "    'class_weight': [{0:0.9,1:1},{0:0.85,1:1}],\n",
    "    'max_leaf_nodes': [None,42]\n",
    "    \n",
    "}\n",
    "\n",
    "CLF2 = GridSearchCV(DT,parameters,n_jobs=-1,scoring=custom_score3,verbose=3,cv=2)"
   ]
  },
  {
   "cell_type": "code",
   "execution_count": 75,
   "metadata": {},
   "outputs": [
    {
     "name": "stdout",
     "output_type": "stream",
     "text": [
      "Fitting 2 folds for each of 32 candidates, totalling 64 fits\n",
      "[CV] class_weight={0: 0.9, 1: 1}, criterion=gini, max_depth=3, max_leaf_nodes=None \n",
      "[CV] class_weight={0: 0.9, 1: 1}, criterion=gini, max_depth=3, max_leaf_nodes=None \n",
      "[CV] class_weight={0: 0.9, 1: 1}, criterion=gini, max_depth=3, max_leaf_nodes=42 \n",
      "[CV] class_weight={0: 0.9, 1: 1}, criterion=gini, max_depth=3, max_leaf_nodes=42 \n",
      "[CV]  class_weight={0: 0.9, 1: 1}, criterion=gini, max_depth=3, max_leaf_nodes=None, score=0.437712 -   4.1s\n",
      "[CV] class_weight={0: 0.9, 1: 1}, criterion=gini, max_depth=5, max_leaf_nodes=None \n",
      "[CV]  class_weight={0: 0.9, 1: 1}, criterion=gini, max_depth=3, max_leaf_nodes=None, score=0.407585 -   4.2s\n",
      "[CV] class_weight={0: 0.9, 1: 1}, criterion=gini, max_depth=5, max_leaf_nodes=None \n",
      "[CV]  class_weight={0: 0.9, 1: 1}, criterion=gini, max_depth=3, max_leaf_nodes=42, score=0.416025 -   5.6s\n",
      "[CV] class_weight={0: 0.9, 1: 1}, criterion=gini, max_depth=5, max_leaf_nodes=42 \n",
      "[CV]  class_weight={0: 0.9, 1: 1}, criterion=gini, max_depth=3, max_leaf_nodes=42, score=0.410243 -   6.9s\n",
      "[CV] class_weight={0: 0.9, 1: 1}, criterion=gini, max_depth=5, max_leaf_nodes=42 \n",
      "[CV]  class_weight={0: 0.9, 1: 1}, criterion=gini, max_depth=5, max_leaf_nodes=None, score=0.438286 -   7.4s\n",
      "[CV] class_weight={0: 0.9, 1: 1}, criterion=gini, max_depth=9, max_leaf_nodes=None \n",
      "[CV]  class_weight={0: 0.9, 1: 1}, criterion=gini, max_depth=5, max_leaf_nodes=None, score=0.423725 -   7.1s\n",
      "[CV] class_weight={0: 0.9, 1: 1}, criterion=gini, max_depth=9, max_leaf_nodes=None \n",
      "[CV]  class_weight={0: 0.9, 1: 1}, criterion=gini, max_depth=5, max_leaf_nodes=42, score=0.443772 -   7.6s\n",
      "[CV] class_weight={0: 0.9, 1: 1}, criterion=gini, max_depth=9, max_leaf_nodes=42 \n",
      "[CV]  class_weight={0: 0.9, 1: 1}, criterion=gini, max_depth=5, max_leaf_nodes=42, score=0.426885 -   8.1s\n",
      "[CV] class_weight={0: 0.9, 1: 1}, criterion=gini, max_depth=9, max_leaf_nodes=42 \n",
      "[CV]  class_weight={0: 0.9, 1: 1}, criterion=gini, max_depth=9, max_leaf_nodes=None, score=0.505331 -  10.2s\n",
      "[CV] class_weight={0: 0.9, 1: 1}, criterion=gini, max_depth=11, max_leaf_nodes=None \n",
      "[CV]  class_weight={0: 0.9, 1: 1}, criterion=gini, max_depth=9, max_leaf_nodes=None, score=0.504315 -  10.9s\n",
      "[CV] class_weight={0: 0.9, 1: 1}, criterion=gini, max_depth=11, max_leaf_nodes=None \n",
      "[CV]  class_weight={0: 0.9, 1: 1}, criterion=gini, max_depth=9, max_leaf_nodes=42, score=0.460654 -   8.6s\n",
      "[CV] class_weight={0: 0.9, 1: 1}, criterion=gini, max_depth=11, max_leaf_nodes=42 \n",
      "[CV]  class_weight={0: 0.9, 1: 1}, criterion=gini, max_depth=9, max_leaf_nodes=42, score=0.452482 -   9.3s\n",
      "[CV] class_weight={0: 0.9, 1: 1}, criterion=gini, max_depth=11, max_leaf_nodes=42 \n",
      "[CV]  class_weight={0: 0.9, 1: 1}, criterion=gini, max_depth=11, max_leaf_nodes=42, score=0.460654 -   8.5s\n",
      "[CV] class_weight={0: 0.9, 1: 1}, criterion=entropy, max_depth=3, max_leaf_nodes=None \n",
      "[CV]  class_weight={0: 0.9, 1: 1}, criterion=gini, max_depth=11, max_leaf_nodes=None, score=0.561302 -  10.8s\n",
      "[CV] class_weight={0: 0.9, 1: 1}, criterion=entropy, max_depth=3, max_leaf_nodes=None \n",
      "[CV]  class_weight={0: 0.9, 1: 1}, criterion=gini, max_depth=11, max_leaf_nodes=None, score=0.544271 -  11.7s\n",
      "[CV] class_weight={0: 0.9, 1: 1}, criterion=entropy, max_depth=3, max_leaf_nodes=42 \n",
      "[CV]  class_weight={0: 0.9, 1: 1}, criterion=gini, max_depth=11, max_leaf_nodes=42, score=0.452482 -   8.8s\n",
      "[CV] class_weight={0: 0.9, 1: 1}, criterion=entropy, max_depth=3, max_leaf_nodes=42 \n",
      "[CV]  class_weight={0: 0.9, 1: 1}, criterion=entropy, max_depth=3, max_leaf_nodes=None, score=0.437712 -   4.2s\n",
      "[CV] class_weight={0: 0.9, 1: 1}, criterion=entropy, max_depth=5, max_leaf_nodes=None \n",
      "[CV]  class_weight={0: 0.9, 1: 1}, criterion=entropy, max_depth=3, max_leaf_nodes=None, score=0.407585 -   4.3s\n",
      "[CV] class_weight={0: 0.9, 1: 1}, criterion=entropy, max_depth=5, max_leaf_nodes=None \n",
      "[CV]  class_weight={0: 0.9, 1: 1}, criterion=entropy, max_depth=3, max_leaf_nodes=42, score=0.416025 -   6.4s\n",
      "[CV] class_weight={0: 0.9, 1: 1}, criterion=entropy, max_depth=5, max_leaf_nodes=42 \n",
      "[CV]  class_weight={0: 0.9, 1: 1}, criterion=entropy, max_depth=3, max_leaf_nodes=42, score=0.410281 -   6.2s\n",
      "[CV] class_weight={0: 0.9, 1: 1}, criterion=entropy, max_depth=5, max_leaf_nodes=42 \n",
      "[CV]  class_weight={0: 0.9, 1: 1}, criterion=entropy, max_depth=5, max_leaf_nodes=None, score=0.442068 -   8.2s\n",
      "[CV] class_weight={0: 0.9, 1: 1}, criterion=entropy, max_depth=9, max_leaf_nodes=None \n",
      "[CV]  class_weight={0: 0.9, 1: 1}, criterion=entropy, max_depth=5, max_leaf_nodes=None, score=0.423744 -   7.2s\n",
      "[CV] class_weight={0: 0.9, 1: 1}, criterion=entropy, max_depth=9, max_leaf_nodes=None \n",
      "[CV]  class_weight={0: 0.9, 1: 1}, criterion=entropy, max_depth=5, max_leaf_nodes=42, score=0.433289 -   8.3s\n",
      "[CV] class_weight={0: 0.9, 1: 1}, criterion=entropy, max_depth=9, max_leaf_nodes=42 \n",
      "[CV]  class_weight={0: 0.9, 1: 1}, criterion=entropy, max_depth=5, max_leaf_nodes=42, score=0.441380 -   8.4s\n",
      "[CV] class_weight={0: 0.9, 1: 1}, criterion=entropy, max_depth=9, max_leaf_nodes=42 \n"
     ]
    },
    {
     "name": "stderr",
     "output_type": "stream",
     "text": [
      "[Parallel(n_jobs=-1)]: Done  24 tasks      | elapsed:   50.0s\n"
     ]
    },
    {
     "name": "stdout",
     "output_type": "stream",
     "text": [
      "[CV]  class_weight={0: 0.9, 1: 1}, criterion=entropy, max_depth=9, max_leaf_nodes=None, score=0.485027 -  10.6s\n",
      "[CV] class_weight={0: 0.9, 1: 1}, criterion=entropy, max_depth=11, max_leaf_nodes=None \n",
      "[CV]  class_weight={0: 0.9, 1: 1}, criterion=entropy, max_depth=9, max_leaf_nodes=None, score=0.495979 -  10.8s\n",
      "[CV] class_weight={0: 0.9, 1: 1}, criterion=entropy, max_depth=11, max_leaf_nodes=None \n",
      "[CV]  class_weight={0: 0.9, 1: 1}, criterion=entropy, max_depth=9, max_leaf_nodes=42, score=0.463231 -   8.8s\n",
      "[CV] class_weight={0: 0.9, 1: 1}, criterion=entropy, max_depth=11, max_leaf_nodes=42 \n",
      "[CV]  class_weight={0: 0.9, 1: 1}, criterion=entropy, max_depth=9, max_leaf_nodes=42, score=0.450515 -   8.8s\n",
      "[CV] class_weight={0: 0.9, 1: 1}, criterion=entropy, max_depth=11, max_leaf_nodes=42 \n",
      "[CV]  class_weight={0: 0.9, 1: 1}, criterion=entropy, max_depth=11, max_leaf_nodes=None, score=0.536312 -  11.3s\n",
      "[CV] class_weight={0: 0.85, 1: 1}, criterion=gini, max_depth=3, max_leaf_nodes=None \n",
      "[CV]  class_weight={0: 0.9, 1: 1}, criterion=entropy, max_depth=11, max_leaf_nodes=42, score=0.463231 -   8.3s\n",
      "[CV] class_weight={0: 0.85, 1: 1}, criterion=gini, max_depth=3, max_leaf_nodes=None \n",
      "[CV]  class_weight={0: 0.9, 1: 1}, criterion=entropy, max_depth=11, max_leaf_nodes=None, score=0.529309 -  11.9s\n",
      "[CV] class_weight={0: 0.85, 1: 1}, criterion=gini, max_depth=3, max_leaf_nodes=42 \n",
      "[CV]  class_weight={0: 0.9, 1: 1}, criterion=entropy, max_depth=11, max_leaf_nodes=42, score=0.450515 -   8.8s\n",
      "[CV] class_weight={0: 0.85, 1: 1}, criterion=gini, max_depth=3, max_leaf_nodes=42 \n",
      "[CV]  class_weight={0: 0.85, 1: 1}, criterion=gini, max_depth=3, max_leaf_nodes=None, score=0.437712 -   3.6s\n",
      "[CV] class_weight={0: 0.85, 1: 1}, criterion=gini, max_depth=5, max_leaf_nodes=None \n",
      "[CV]  class_weight={0: 0.85, 1: 1}, criterion=gini, max_depth=3, max_leaf_nodes=None, score=0.407585 -   4.5s\n",
      "[CV] class_weight={0: 0.85, 1: 1}, criterion=gini, max_depth=5, max_leaf_nodes=None \n",
      "[CV]  class_weight={0: 0.85, 1: 1}, criterion=gini, max_depth=3, max_leaf_nodes=42, score=0.416025 -   5.2s\n",
      "[CV] class_weight={0: 0.85, 1: 1}, criterion=gini, max_depth=5, max_leaf_nodes=42 \n",
      "[CV]  class_weight={0: 0.85, 1: 1}, criterion=gini, max_depth=3, max_leaf_nodes=42, score=0.438475 -   5.6s\n",
      "[CV] class_weight={0: 0.85, 1: 1}, criterion=gini, max_depth=5, max_leaf_nodes=42 \n",
      "[CV]  class_weight={0: 0.85, 1: 1}, criterion=gini, max_depth=5, max_leaf_nodes=None, score=0.440208 -   6.4s\n",
      "[CV] class_weight={0: 0.85, 1: 1}, criterion=gini, max_depth=9, max_leaf_nodes=None \n",
      "[CV]  class_weight={0: 0.85, 1: 1}, criterion=gini, max_depth=5, max_leaf_nodes=None, score=0.426440 -   6.2s\n",
      "[CV] class_weight={0: 0.85, 1: 1}, criterion=gini, max_depth=9, max_leaf_nodes=None \n",
      "[CV]  class_weight={0: 0.85, 1: 1}, criterion=gini, max_depth=5, max_leaf_nodes=42, score=0.442564 -   7.0s\n",
      "[CV] class_weight={0: 0.85, 1: 1}, criterion=gini, max_depth=9, max_leaf_nodes=42 \n",
      "[CV]  class_weight={0: 0.85, 1: 1}, criterion=gini, max_depth=5, max_leaf_nodes=42, score=0.444275 -   7.2s\n",
      "[CV] class_weight={0: 0.85, 1: 1}, criterion=gini, max_depth=9, max_leaf_nodes=42 \n",
      "[CV]  class_weight={0: 0.85, 1: 1}, criterion=gini, max_depth=9, max_leaf_nodes=None, score=0.508155 -  10.0s\n",
      "[CV] class_weight={0: 0.85, 1: 1}, criterion=gini, max_depth=11, max_leaf_nodes=None \n",
      "[CV]  class_weight={0: 0.85, 1: 1}, criterion=gini, max_depth=9, max_leaf_nodes=None, score=0.508274 -   9.7s\n",
      "[CV] class_weight={0: 0.85, 1: 1}, criterion=gini, max_depth=11, max_leaf_nodes=None \n",
      "[CV]  class_weight={0: 0.85, 1: 1}, criterion=gini, max_depth=9, max_leaf_nodes=42, score=0.464915 -   7.9s\n",
      "[CV] class_weight={0: 0.85, 1: 1}, criterion=gini, max_depth=11, max_leaf_nodes=42 \n",
      "[CV]  class_weight={0: 0.85, 1: 1}, criterion=gini, max_depth=9, max_leaf_nodes=42, score=0.472733 -   8.3s\n",
      "[CV] class_weight={0: 0.85, 1: 1}, criterion=gini, max_depth=11, max_leaf_nodes=42 \n",
      "[CV]  class_weight={0: 0.85, 1: 1}, criterion=gini, max_depth=11, max_leaf_nodes=42, score=0.464915 -   7.7s\n",
      "[CV] class_weight={0: 0.85, 1: 1}, criterion=entropy, max_depth=3, max_leaf_nodes=None \n",
      "[CV]  class_weight={0: 0.85, 1: 1}, criterion=gini, max_depth=11, max_leaf_nodes=None, score=0.576507 -  10.6s\n",
      "[CV] class_weight={0: 0.85, 1: 1}, criterion=entropy, max_depth=3, max_leaf_nodes=None \n",
      "[CV]  class_weight={0: 0.85, 1: 1}, criterion=gini, max_depth=11, max_leaf_nodes=42, score=0.472733 -   8.3s\n",
      "[CV] class_weight={0: 0.85, 1: 1}, criterion=entropy, max_depth=3, max_leaf_nodes=42 \n",
      "[CV]  class_weight={0: 0.85, 1: 1}, criterion=gini, max_depth=11, max_leaf_nodes=None, score=0.558732 -  11.0s\n",
      "[CV] class_weight={0: 0.85, 1: 1}, criterion=entropy, max_depth=3, max_leaf_nodes=42 \n",
      "[CV]  class_weight={0: 0.85, 1: 1}, criterion=entropy, max_depth=3, max_leaf_nodes=None, score=0.437712 -   4.2s\n",
      "[CV] class_weight={0: 0.85, 1: 1}, criterion=entropy, max_depth=5, max_leaf_nodes=None \n",
      "[CV]  class_weight={0: 0.85, 1: 1}, criterion=entropy, max_depth=3, max_leaf_nodes=None, score=0.407585 -   4.2s\n",
      "[CV] class_weight={0: 0.85, 1: 1}, criterion=entropy, max_depth=5, max_leaf_nodes=None \n",
      "[CV]  class_weight={0: 0.85, 1: 1}, criterion=entropy, max_depth=3, max_leaf_nodes=42, score=0.416025 -   5.5s\n",
      "[CV] class_weight={0: 0.85, 1: 1}, criterion=entropy, max_depth=5, max_leaf_nodes=42 \n",
      "[CV]  class_weight={0: 0.85, 1: 1}, criterion=entropy, max_depth=3, max_leaf_nodes=42, score=0.438513 -   5.2s\n",
      "[CV] class_weight={0: 0.85, 1: 1}, criterion=entropy, max_depth=5, max_leaf_nodes=42 \n",
      "[CV]  class_weight={0: 0.85, 1: 1}, criterion=entropy, max_depth=5, max_leaf_nodes=None, score=0.442068 -   5.9s\n",
      "[CV] class_weight={0: 0.85, 1: 1}, criterion=entropy, max_depth=9, max_leaf_nodes=None \n",
      "[CV]  class_weight={0: 0.85, 1: 1}, criterion=entropy, max_depth=5, max_leaf_nodes=None, score=0.426459 -   6.3s\n",
      "[CV] class_weight={0: 0.85, 1: 1}, criterion=entropy, max_depth=9, max_leaf_nodes=None \n",
      "[CV]  class_weight={0: 0.85, 1: 1}, criterion=entropy, max_depth=5, max_leaf_nodes=42, score=0.445140 -   7.2s\n",
      "[CV] class_weight={0: 0.85, 1: 1}, criterion=entropy, max_depth=9, max_leaf_nodes=42 \n",
      "[CV]  class_weight={0: 0.85, 1: 1}, criterion=entropy, max_depth=5, max_leaf_nodes=42, score=0.442191 -   7.3s\n",
      "[CV] class_weight={0: 0.85, 1: 1}, criterion=entropy, max_depth=9, max_leaf_nodes=42 \n",
      "[CV]  class_weight={0: 0.85, 1: 1}, criterion=entropy, max_depth=9, max_leaf_nodes=None, score=0.503417 -   9.4s\n",
      "[CV] class_weight={0: 0.85, 1: 1}, criterion=entropy, max_depth=11, max_leaf_nodes=None \n",
      "[CV]  class_weight={0: 0.85, 1: 1}, criterion=entropy, max_depth=9, max_leaf_nodes=None, score=0.499647 -   9.4s\n",
      "[CV] class_weight={0: 0.85, 1: 1}, criterion=entropy, max_depth=11, max_leaf_nodes=None \n",
      "[CV]  class_weight={0: 0.85, 1: 1}, criterion=entropy, max_depth=9, max_leaf_nodes=42, score=0.464988 -   7.9s\n",
      "[CV] class_weight={0: 0.85, 1: 1}, criterion=entropy, max_depth=11, max_leaf_nodes=42 \n",
      "[CV]  class_weight={0: 0.85, 1: 1}, criterion=entropy, max_depth=9, max_leaf_nodes=42, score=0.470767 -   8.4s\n",
      "[CV] class_weight={0: 0.85, 1: 1}, criterion=entropy, max_depth=11, max_leaf_nodes=42 \n",
      "[CV]  class_weight={0: 0.85, 1: 1}, criterion=entropy, max_depth=11, max_leaf_nodes=42, score=0.464988 -   7.6s\n",
      "[CV]  class_weight={0: 0.85, 1: 1}, criterion=entropy, max_depth=11, max_leaf_nodes=None, score=0.553098 -  10.5s\n",
      "[CV]  class_weight={0: 0.85, 1: 1}, criterion=entropy, max_depth=11, max_leaf_nodes=None, score=0.544575 -   9.6s\n",
      "[CV]  class_weight={0: 0.85, 1: 1}, criterion=entropy, max_depth=11, max_leaf_nodes=42, score=0.470767 -   7.1s\n"
     ]
    },
    {
     "name": "stderr",
     "output_type": "stream",
     "text": [
      "[Parallel(n_jobs=-1)]: Done  64 out of  64 | elapsed:  2.1min finished\n"
     ]
    },
    {
     "data": {
      "text/plain": [
       "GridSearchCV(cv=2, error_score='raise',\n",
       "       estimator=DecisionTreeClassifier(class_weight=None, criterion='gini', max_depth=None,\n",
       "            max_features=None, max_leaf_nodes=None,\n",
       "            min_impurity_decrease=0.0, min_impurity_split=None,\n",
       "            min_samples_leaf=1, min_samples_split=2,\n",
       "            min_weight_fraction_leaf=0.0, presort=False, random_state=None,\n",
       "            splitter='best'),\n",
       "       fit_params={}, iid=True, n_jobs=-1,\n",
       "       param_grid={'criterion': ['gini', 'entropy'], 'max_depth': [3, 5, 9, 11], 'class_weight': [{0: 0.9, 1: 1}, {0: 0.85, 1: 1}], 'max_leaf_nodes': [None, 42]},\n",
       "       pre_dispatch='2*n_jobs', refit=True,\n",
       "       scoring=make_scorer(loss_func2), verbose=3)"
      ]
     },
     "execution_count": 75,
     "metadata": {},
     "output_type": "execute_result"
    }
   ],
   "source": [
    "CLF2.fit(new_Xtrain.values,new_Ytrain.values.ravel())"
   ]
  },
  {
   "cell_type": "code",
   "execution_count": 76,
   "metadata": {},
   "outputs": [
    {
     "data": {
      "text/plain": [
       "DecisionTreeClassifier(class_weight={0: 0.85, 1: 1}, criterion='gini',\n",
       "            max_depth=11, max_features=None, max_leaf_nodes=None,\n",
       "            min_impurity_decrease=0.0, min_impurity_split=None,\n",
       "            min_samples_leaf=1, min_samples_split=2,\n",
       "            min_weight_fraction_leaf=0.0, presort=False, random_state=None,\n",
       "            splitter='best')"
      ]
     },
     "execution_count": 76,
     "metadata": {},
     "output_type": "execute_result"
    }
   ],
   "source": [
    "CLF2.best_estimator_"
   ]
  },
  {
   "cell_type": "code",
   "execution_count": 77,
   "metadata": {
    "collapsed": true
   },
   "outputs": [],
   "source": [
    "preds = CLF2.best_estimator_.predict_proba(X_test.values)"
   ]
  },
  {
   "cell_type": "code",
   "execution_count": 78,
   "metadata": {},
   "outputs": [
    {
     "data": {
      "text/plain": [
       "<matplotlib.legend.Legend at 0x7fa68130d748>"
      ]
     },
     "execution_count": 78,
     "metadata": {},
     "output_type": "execute_result"
    },
    {
     "data": {
      "image/png": "[encoded data removed]",
      "text/plain": [
       "<matplotlib.figure.Figure at 0x7fa679f155c0>"
      ]
     },
     "metadata": {},
     "output_type": "display_data"
    }
   ],
   "source": [
    "fpr, tpr, _ = roc_curve(Y_test,preds[:,1])\n",
    "roc_auc = auc(fpr, tpr)\n",
    "\n",
    "plt.figure(figsize=(8, 6))\n",
    "plt.plot([0, 1], [0, 1], 'k--')\n",
    "plt.plot(fpr, tpr, label=\"LR (AUC=%.2f)\" % roc_auc, lw=2)\n",
    "plt.xlim([0.0, 1.0])\n",
    "plt.ylim([0.0, 1.05])\n",
    "plt.xlabel('False Positive Rate', fontsize=16)\n",
    "plt.ylabel('True Positive Rate', fontsize=16)\n",
    "plt.title('Receiver operating characteristic', fontsize=18)\n",
    "plt.legend(loc=\"lower right\", fontsize=16)"
   ]
  },
  {
   "cell_type": "code",
   "execution_count": 79,
   "metadata": {},
   "outputs": [
    {
     "name": "stdout",
     "output_type": "stream",
     "text": [
      "             precision    recall  f1-score   support\n",
      "\n",
      "          0       0.97      0.80      0.88    171842\n",
      "          1       0.05      0.30      0.09      6492\n",
      "\n",
      "avg / total       0.93      0.78      0.85    178334\n",
      "\n"
     ]
    }
   ],
   "source": [
    "print(classification_report(Y_test.values,CLF2.best_estimator_.predict(X_test.values)))"
   ]
  },
  {
   "cell_type": "markdown",
   "metadata": {},
   "source": [
    "We can see in scikit learn that their is a voting classifier, it was mentionned if we are corrrect during Stéphane Gaïffas introduction to Machine Learning class, and as we try a few classifier it can be easilly implemented.\n",
    "\n",
    "We will only try with both estimator that worked the best that is clf, CLF and CLF2\n",
    "\n",
    "Source : http://scikit-learn.org/stable/modules/generated/sklearn.ensemble.VotingClassifier.html"
   ]
  },
  {
   "cell_type": "code",
   "execution_count": 80,
   "metadata": {
    "collapsed": true
   },
   "outputs": [],
   "source": [
    "from sklearn.ensemble import VotingClassifier\n",
    "\n",
    "eclf = VotingClassifier(estimators=[('DT',CLF.best_estimator_),('gbm',clf.best_estimator_)],n_jobs=-1,voting='soft')"
   ]
  },
  {
   "cell_type": "code",
   "execution_count": 81,
   "metadata": {},
   "outputs": [
    {
     "data": {
      "text/plain": [
       "VotingClassifier(estimators=[('DT', RandomForestClassifier(bootstrap=True, class_weight={0: 0.8, 1: 1},\n",
       "            criterion='gini', max_depth=11, max_features='auto',\n",
       "            max_leaf_nodes=None, min_impurity_decrease=0.0,\n",
       "            min_impurity_split=None, min_samples_leaf=1,\n",
       "            min_samples_split=2...stic', reg_alpha=8, reg_lambda=1,\n",
       "       scale_pos_weight=1.5, seed=0, silent=True, subsample=0.6))],\n",
       "         flatten_transform=None, n_jobs=-1, voting='soft', weights=None)"
      ]
     },
     "execution_count": 81,
     "metadata": {},
     "output_type": "execute_result"
    }
   ],
   "source": [
    "eclf.fit(new_Xtrain.values,new_Ytrain.values.ravel())"
   ]
  },
  {
   "cell_type": "code",
   "execution_count": 82,
   "metadata": {},
   "outputs": [
    {
     "name": "stdout",
     "output_type": "stream",
     "text": [
      "             precision    recall  f1-score   support\n",
      "\n",
      "          0       0.97      0.83      0.89    171842\n",
      "          1       0.06      0.32      0.11      6492\n",
      "\n",
      "avg / total       0.94      0.81      0.86    178334\n",
      "\n"
     ]
    },
    {
     "data": {
      "image/png": "[encoded data removed]",
      "text/plain": [
       "<matplotlib.figure.Figure at 0x7fa679f0fd68>"
      ]
     },
     "metadata": {},
     "output_type": "display_data"
    }
   ],
   "source": [
    "fpr, tpr, _ = roc_curve(Y_test.values,eclf.predict_proba(X_test.values)[:,1])\n",
    "roc_auc = auc(fpr, tpr)\n",
    "\n",
    "plt.figure(figsize=(8, 6))\n",
    "plt.plot([0, 1], [0, 1], 'k--')\n",
    "plt.plot(fpr, tpr, label=\"LR (AUC=%.2f)\" % roc_auc, lw=2)\n",
    "plt.xlim([0.0, 1.0])\n",
    "plt.ylim([0.0, 1.05])\n",
    "plt.xlabel('False Positive Rate', fontsize=16)\n",
    "plt.ylabel('True Positive Rate', fontsize=16)\n",
    "plt.title('Receiver operating characteristic', fontsize=18)\n",
    "plt.legend(loc=\"lower right\", fontsize=16)\n",
    "\n",
    "print(classification_report(Y_test.values,eclf.predict(X_test.values)))\n",
    "#not so good but "
   ]
  },
  {
   "cell_type": "markdown",
   "metadata": {
    "collapsed": true
   },
   "source": [
    "# Neural networks \n",
    "\n",
    "We tested gradient boosting and random forest first because we belived that it would work very well since we have mostly categorical features .\n",
    "\n",
    "For the same reason we test neural networks in last"
   ]
  },
  {
   "cell_type": "code",
   "execution_count": 83,
   "metadata": {},
   "outputs": [
    {
     "name": "stderr",
     "output_type": "stream",
     "text": [
      "Using TensorFlow backend.\n"
     ]
    }
   ],
   "source": [
    "import tensorflow as tf\n",
    "import keras "
   ]
  },
  {
   "cell_type": "code",
   "execution_count": 84,
   "metadata": {
    "collapsed": true
   },
   "outputs": [],
   "source": [
    "from keras import backend as K\n",
    "from keras.models import Sequential\n",
    "from keras.layers import Dense, Dropout, Flatten\n",
    "from keras.layers import Conv2D, MaxPooling2D\n",
    "from keras import activations\n",
    "from sklearn.preprocessing import StandardScaler"
   ]
  },
  {
   "cell_type": "code",
   "execution_count": 85,
   "metadata": {
    "collapsed": true
   },
   "outputs": [],
   "source": [
    "scaler = StandardScaler()\n",
    "new_Xtrain = scaler.fit_transform(new_Xtrain)"
   ]
  },
  {
   "cell_type": "code",
   "execution_count": 86,
   "metadata": {
    "collapsed": true
   },
   "outputs": [],
   "source": [
    "X_t , Y_t = new_Xtrain.astype(np.float32).copy(), new_Ytrain.values.astype(np.float32).copy()"
   ]
  },
  {
   "cell_type": "code",
   "execution_count": 87,
   "metadata": {},
   "outputs": [
    {
     "data": {
      "text/plain": [
       "658190"
      ]
     },
     "execution_count": 87,
     "metadata": {},
     "output_type": "execute_result"
    }
   ],
   "source": [
    "X_t.shape[0]"
   ]
  },
  {
   "cell_type": "code",
   "execution_count": 88,
   "metadata": {
    "collapsed": true
   },
   "outputs": [],
   "source": [
    "from keras.layers.advanced_activations import PReLU"
   ]
  },
  {
   "cell_type": "code",
   "execution_count": 94,
   "metadata": {},
   "outputs": [
    {
     "name": "stdout",
     "output_type": "stream",
     "text": [
      "_________________________________________________________________\n",
      "Layer (type)                 Output Shape              Param #   \n",
      "=================================================================\n",
      "dense_8 (Dense)              (None, 33)                1551      \n",
      "_________________________________________________________________\n",
      "dropout_5 (Dropout)          (None, 33)                0         \n",
      "_________________________________________________________________\n",
      "dense_9 (Dense)              (None, 20)                680       \n",
      "_________________________________________________________________\n",
      "dropout_6 (Dropout)          (None, 20)                0         \n",
      "_________________________________________________________________\n",
      "dense_10 (Dense)             (None, 15)                315       \n",
      "_________________________________________________________________\n",
      "dense_11 (Dense)             (None, 13)                208       \n",
      "_________________________________________________________________\n",
      "dropout_7 (Dropout)          (None, 13)                0         \n",
      "_________________________________________________________________\n",
      "dense_12 (Dense)             (None, 8)                 112       \n",
      "_________________________________________________________________\n",
      "dense_13 (Dense)             (None, 5)                 45        \n",
      "_________________________________________________________________\n",
      "dropout_8 (Dropout)          (None, 5)                 0         \n",
      "_________________________________________________________________\n",
      "dense_14 (Dense)             (None, 1)                 6         \n",
      "=================================================================\n",
      "Total params: 2,917\n",
      "Trainable params: 2,917\n",
      "Non-trainable params: 0\n",
      "_________________________________________________________________\n"
     ]
    }
   ],
   "source": [
    "model = Sequential()\n",
    "\n",
    "act = 'relu'\n",
    "\n",
    "model.add(Dense(33,input_shape=(46,),activation=act))\n",
    "model.add(Dropout(0.5))\n",
    "model.add(Dense(20,activation=act))\n",
    "model.add(Dropout(0.5))\n",
    "model.add(Dense(15,activation=act))\n",
    "model.add(Dense(13,activation=act))\n",
    "model.add(Dropout(0.5))\n",
    "model.add(Dense(8,activation=act))\n",
    "model.add(Dense(5,activation=act))\n",
    "model.add(Dropout(0.5))\n",
    "model.add(Dense(1,activation='sigmoid'))\n",
    "\n",
    "model.compile(loss='binary_crossentropy',\n",
    "                  optimizer=keras.optimizers.Adadelta(),\n",
    "                  metrics=['accuracy'])\n",
    "              \n",
    "model.summary()"
   ]
  },
  {
   "cell_type": "code",
   "execution_count": 95,
   "metadata": {},
   "outputs": [
    {
     "name": "stdout",
     "output_type": "stream",
     "text": [
      "Train on 658190 samples, validate on 178334 samples\n",
      "Epoch 1/3\n",
      "658190/658190 [==============================] - 50s - loss: 0.6685 - acc: 0.6090 - val_loss: 0.6277 - val_acc: 0.8245\n",
      "Epoch 2/3\n",
      "658190/658190 [==============================] - 49s - loss: 0.6621 - acc: 0.6145 - val_loss: 0.6269 - val_acc: 0.7744\n",
      "Epoch 3/3\n",
      "658190/658190 [==============================] - 49s - loss: 0.6605 - acc: 0.6158 - val_loss: 0.5863 - val_acc: 0.9298\n"
     ]
    }
   ],
   "source": [
    "batch_size = 20\n",
    "epochs = 3\n",
    "\n",
    "history = model.fit(X_t, Y_t,\n",
    "                        batch_size=batch_size,\n",
    "                        epochs=epochs,\n",
    "                        verbose=1,\n",
    "                        validation_data=(X_test.astype(np.float32).values, Y_test))"
   ]
  },
  {
   "cell_type": "code",
   "execution_count": 96,
   "metadata": {},
   "outputs": [
    {
     "name": "stdout",
     "output_type": "stream",
     "text": [
      "Test loss: 0.586311295861\n",
      "Test accuracy: 0.929817084797\n"
     ]
    }
   ],
   "source": [
    "score = model.evaluate(X_test.astype(np.float32).values, Y_test, verbose=0)\n",
    "print('Test loss:', score[0])\n",
    "print('Test accuracy:', score[1])"
   ]
  },
  {
   "cell_type": "code",
   "execution_count": 97,
   "metadata": {},
   "outputs": [
    {
     "data": {
      "image/png": "[encoded data removed]",
      "text/plain": [
       "<matplotlib.figure.Figure at 0x7fa65ed96a90>"
      ]
     },
     "metadata": {},
     "output_type": "display_data"
    }
   ],
   "source": [
    "plt.figure(figsize=(7, 5))\n",
    "plt.plot(history.epoch, history.history['acc'], lw=3, label='Training')\n",
    "plt.plot(history.epoch, history.history['val_acc'], lw=3, label='Testing')\n",
    "plt.legend(fontsize=14)\n",
    "plt.title('Accuracy of softmax regression', fontsize=16)\n",
    "plt.xlabel('Epoch', fontsize=14)\n",
    "plt.ylabel('Accuracy', fontsize=14)\n",
    "plt.tight_layout()"
   ]
  },
  {
   "cell_type": "code",
   "execution_count": 98,
   "metadata": {},
   "outputs": [
    {
     "data": {
      "text/plain": [
       "array([[ 0.46046951],\n",
       "       [ 0.41661268],\n",
       "       [ 0.51355487],\n",
       "       ..., \n",
       "       [ 0.41041714],\n",
       "       [ 0.47066006],\n",
       "       [ 0.39822659]], dtype=float32)"
      ]
     },
     "execution_count": 98,
     "metadata": {},
     "output_type": "execute_result"
    }
   ],
   "source": [
    "model.predict(X_test.values)"
   ]
  },
  {
   "cell_type": "code",
   "execution_count": 99,
   "metadata": {},
   "outputs": [
    {
     "name": "stdout",
     "output_type": "stream",
     "text": [
      "176928/178334 [============================>.] - ETA: 0s             precision    recall  f1-score   support\n",
      "\n",
      "          0       0.96      0.96      0.96    171842\n",
      "          1       0.06      0.07      0.06      6492\n",
      "\n",
      "avg / total       0.93      0.93      0.93    178334\n",
      "\n"
     ]
    }
   ],
   "source": [
    "print(classification_report(Y_test,model.predict_classes(X_test.values)))"
   ]
  },
  {
   "cell_type": "code",
   "execution_count": null,
   "metadata": {
    "collapsed": true
   },
   "outputs": [],
   "source": [
    "#We clearly see that a neural network is not working very well"
   ]
  },
  {
   "cell_type": "markdown",
   "metadata": {},
   "source": [
    "Another idea suggested was to reduce the number of data labeled as $0$'s.\n",
    "\n",
    "Instead of just drooping lines at random we will use the k_means algorithm seen in the ML class \n",
    "\n",
    "Indeed we want to drop as many 0's as wee can but while preserving the information and disparity of them .An idea we had is to use clustering to see wich data point gives the same intel and then you just want to take this centroid as a representant of all it's neighboors \n",
    "\n",
    "Of cours this will be very long to run but we will post the code bellow : "
   ]
  },
  {
   "cell_type": "code",
   "execution_count": 101,
   "metadata": {
    "collapsed": true
   },
   "outputs": [],
   "source": [
    "from sklearn.cluster import k_means"
   ]
  },
  {
   "cell_type": "code",
   "execution_count": 102,
   "metadata": {
    "collapsed": true
   },
   "outputs": [],
   "source": [
    "#centroids,_,_ = k_means(X_train[~Y_train.isin([1]).values],n_clusters=15000,n_init=1)\n",
    "\n",
    "#this doesn't work on our computers and returns a memeory error... so I comment it to avoid crashing your computer!"
   ]
  },
  {
   "cell_type": "markdown",
   "metadata": {},
   "source": [
    "This allows us of having a database of 30000 points and equilibrated (of course we kept only $8\\%$ on the original data so it might not be a good idea)\n",
    "\n",
    "But if this algorithm finishes one day we could see how well it performs on similar classifications tasks as above and compare the results \n",
    "\n",
    "Let's try another idea : maybe deep learning does not work because the weights are not initialized correctly so by using autoencoder for preprocessing it could improve our model (?)"
   ]
  },
  {
   "cell_type": "code",
   "execution_count": 103,
   "metadata": {
    "collapsed": true
   },
   "outputs": [],
   "source": [
    "import numpy as np\n",
    "import tensorflow as tf\n",
    "\n",
    "\n",
    "tf.reset_default_graph()\n",
    "sess=tf.InteractiveSession()\n",
    "\n",
    "\n",
    "def Gaussian(x):\n",
    "    x = x + np.random.normal(0,1,x.shape)\n",
    "    return x\n",
    "\n",
    "def encoding_process(batch, Weight, Biases):\n",
    "    H = tf.nn.sigmoid(tf.add(tf.matmul(batch,Weight),Biases))\n",
    "    return H\n",
    "\n",
    "def decoding_process(encoded_batch, Weight, Biases):\n",
    "    H = tf.nn.sigmoid(tf.add(tf.matmul(encoded_batch,Weight),Biases))\n",
    "    return H\n",
    "\n",
    "def DAE(data, Archi, noise = Gaussian, batch_size = 500,pre_pross=True, training_epochs=5, learning_rate = 0.01, decoder=False,disp_step=30):\n",
    "    \"\"\"\n",
    "   Computes the denoising-autoencoder algorithm:\n",
    "       \n",
    "   It's a non-supervised deep learning algorithm\n",
    "   every layer of the neural net is trained to encode in the best way possible so that it will be able to reconstruct data from the previous layer.\n",
    "   The algorithm can be used just for pre-processing in that case you are just interested in finding the encoding weights,\n",
    "   but decoding weights can also be usefull for exemple if you want to compare imitation as a social behavior or \n",
    "   if you want to know if a part of a specific image is hidden by a random object\n",
    "   **reference paper** : \n",
    "   \n",
    "       -Pascal Vincent, Stacked Denoising Autoencoders: Learning Useful Representations in a Deep Network with a Local Denoising Criterion\n",
    "       -Andrew NG, CS294A Lecture notes, Sparse autoencoder\n",
    "   \n",
    "   Almost every TensorFlow objects are writen as dictionnary as the architecture of the neural net is left to the user.\n",
    "   Cost and optimizer are also stored in dictionnaries so that the graph is totally defined before any run \n",
    "   \n",
    "   parameters :\n",
    "       :param data: a numpy-array containing the training data\n",
    "       \n",
    "       :param Archi: a list containing the archistecture of your neural net each element of the list indicates the number of neurones per hidden layers\n",
    "       (exemple [225,121] represent a neural network with 225 neurone in the first hidden layer and 121 in the second one)\n",
    "       \n",
    "       :param noise: just Gaussian noise is avalable for now\n",
    "       \n",
    "       :param batch_size: size of the batches\n",
    "       \n",
    "       :param training_epochs: the number of times you want your neural network to run over all your dataset\n",
    "       \n",
    "       :param learning_rate: the learning rate used in the optimizer\n",
    "       \n",
    "       :param decoder: boolean, if True returns the weight of the encoding and the decoding process.\n",
    "       \n",
    "    returns : E_Weights, E_Biases two dictionnary containing your weights \n",
    "    can also return E_Weights, E_Biases, D_Weights, D_Biases if you want the encoding and decoding weights\n",
    "    \n",
    "    to see an exemple of utilisation see '/SyncPy-master/exemples/DAE_exemple'\n",
    "    to see an exemple of utilisation in case of preprocessing '/SyncPy-master/exemples/DAE_pre_processing\n",
    "    \n",
    "    NB: do not declare a tf.Sessoin() before or after using DAE instead use the current DAE session.\n",
    "    To do so you need to enter \"sess = tf.get_default_session()\" after the call of DAE\n",
    "     \"\"\"\n",
    "     \n",
    "    input_size = data.shape[1]\n",
    "    Archi = np.array(Archi)\n",
    "    l = Archi.size\n",
    "    E_Weights = {}; E_Biases = {}\n",
    "    D_Weights = {}; D_Biases = {}    \n",
    "    I_P = {} ;\n",
    "    cost = {} ; opt = {}\n",
    "    \n",
    "    \"\"\"placeholders initialisation\"\"\"\n",
    "    for i in range(l):\n",
    "        if i == 0:\n",
    "            I_P['P'+str(i)] = tf.placeholder(tf.float32, [batch_size,input_size])\n",
    "        else :\n",
    "            I_P['P'+str(i)] = tf.placeholder(tf.float32, [batch_size,Archi[i-1]])\n",
    "\n",
    "    \"\"\"Weights and Biases initialisation for the Encoding process\"\"\"\n",
    "    for i in range(1,l+1):\n",
    "        if i ==1:\n",
    "            E_Weights['W'+str(i)] = tf.Variable(tf.random_normal([input_size,Archi[i-1]],0,0.1))\n",
    "        else:\n",
    "            E_Weights['W'+str(i)] = tf.Variable(tf.random_normal([Archi[i-2],Archi[i-1]],0,0.1))\n",
    "    for i in range(1,l+1):\n",
    "        E_Biases['B'+str(i)] = tf.Variable(tf.random_normal([Archi[i-1]],0,0.1))\n",
    "        \n",
    "    \"\"\"Weights and Biases initialisation for the Decoding process\"\"\"\n",
    "    for i in range(1,l+1):\n",
    "        if i ==1:\n",
    "            D_Weights['W'+str(i)] = tf.Variable(tf.random_normal([Archi[i-1],input_size],0,0.1))\n",
    "        else:\n",
    "            D_Weights['W'+str(i)] = tf.Variable(tf.random_normal([Archi[i-1],Archi[i-2]],0,0.1))\n",
    "    for i in range(1,l+1):\n",
    "        if i ==1:\n",
    "            D_Biases['B'+str(i)] = tf.Variable(tf.random_normal([input_size],0,0.1))\n",
    "        else:\n",
    "             D_Biases['B'+str(i)] = tf.Variable(tf.random_normal([Archi[i-2]],0,0.1))\n",
    "             \n",
    "    \"\"\"definition of the cost functions\"\"\"\n",
    "    for i in range(l):\n",
    "        E = encoding_process(I_P['P'+str(i)],E_Weights['W'+str(i+1)],E_Biases['B'+str(i+1)]) \n",
    "        D = decoding_process(E,D_Weights['W'+str(i+1)],D_Biases['B'+str(i+1)])\n",
    "        cost['c' +str(i)] = tf.reduce_mean(tf.pow(I_P['P'+str(i)]-D,2))\n",
    "\n",
    "    \"\"\"definition of the optimizers\"\"\"\n",
    "    for i in range(l):\n",
    "        opt['o'+str(i)] = tf.train.AdamOptimizer(learning_rate).minimize(cost['c' +str(i)])\n",
    "    \n",
    "    \n",
    "    \n",
    "    \"\"\"training process\"\"\"    \n",
    "    init = tf.global_variables_initializer()\n",
    "    sess.run(init)\n",
    "    total_batch = int(data.shape[0]/batch_size)\n",
    "    for i in range(l):\n",
    "        print('\\n')\n",
    "        print(\"###################################\")\n",
    "        print(\"#   optimizing layer nubmer : \" +str(i+1) +\"   #\")\n",
    "        print(\"###################################\\n\")\n",
    "        if i == 0:\n",
    "            data = data\n",
    "#seem redondant but it's important to understand the logic of the code i think\n",
    "        else :\n",
    "            W = E_Weights['W'+str(i)].eval()\n",
    "            B = E_Biases['B'+str(i)].eval()\n",
    "            data = tf.nn.sigmoid(tf.add(tf.matmul(data,W),B)).eval()\n",
    "        for epochs in range(training_epochs):\n",
    "            print('epochs number :'+str(epochs+1))\n",
    "            for j in range(total_batch):\n",
    "                U = data[j*batch_size:(j+1)*batch_size,:]\n",
    "                _,c = sess.run([opt['o'+str(i)],cost['c' +str(i)]],feed_dict={I_P['P'+str(i)] : U})\n",
    "                if j % disp_step == 0:\n",
    "                    print(\"the cost is : \" +str(c))\n",
    "    \n",
    "    \"\"\"In case you want to use DAE for pre-processing, so you can initialize your variable in the same time that every thing else\"\"\"\n",
    "    if pre_pross == True:\n",
    "        l = []\n",
    "        for key in E_Weights:\n",
    "            val = E_Weights[key].eval()\n",
    "            E_Weights[key] = tf.Variable(val)\n",
    "            l.append(E_Weights[key])\n",
    "        for key in E_Biases:\n",
    "            val = E_Biases[key].eval()\n",
    "            E_Biases[key] = tf.Variable(val)\n",
    "            l.append(E_Biases[key])\n",
    "            \n",
    "        init = tf.variables_initializer(l)\n",
    "        sess.run(init)\n",
    "\n",
    "\n",
    "    \"\"\"return \"\"\"    \n",
    "    if decoder == True:\n",
    "        return E_Weights, E_Biases, D_Weights, D_Biases\n",
    "    else:\n",
    "        return E_Weights, E_Biases\n",
    "\n",
    "#source = https://github.com/JeanZAG/Denoising-autoencoder/blob/master/DAE.py"
   ]
  },
  {
   "cell_type": "code",
   "execution_count": null,
   "metadata": {
    "collapsed": true
   },
   "outputs": [],
   "source": [
    "learning_rate = 0.01\n",
    "epochs = 7\n",
    "batch_size = 300\n",
    "\n",
    "x = tf.placeholder(dtype=tf.float32,shape=[None,46])\n",
    "y_hat = tf.placeholder(dtype=tf.float32,shape=[None,1])\n",
    "\n",
    "W1, B1 = DAE((X_train.values).astype(np.float32),[35,20,10,5,1],batch_size=500,training_epochs=20,learning_rate=0.015)\n",
    "\n",
    "sess=tf.get_default_session()\n",
    "\n",
    "\n",
    "def RN1(x):\n",
    "    L1 = tf.sigmoid(tf.add(tf.matmul(x,W1['W1']),B1['B1']))\n",
    "    L2 = tf.sigmoid(tf.add(tf.matmul(L1,W1['W2']),B1['B2']))\n",
    "    l3 = tf.sigmoid(tf.add(tf.matmul(L2,W1['W3']),B1['B3']))\n",
    "    l4 = tf.sigmoid(tf.add(tf.matmul(l3,W1['W4']),B1['B4']))\n",
    "    l5 = tf.sigmoid(tf.add(tf.matmul(l4,W1['W5']),B1['B5']))\n",
    "    return l5\n",
    "\n",
    "loss = tf.reduce_mean(tf.nn.sigmoid_cross_entropy_with_logits(labels=y_hat,logits=RN1(x)))\n",
    "optimizer = tf.train.AdamOptimizer(learning_rate).minimize(loss)\n",
    "\n",
    "\n",
    "#valX = X_train.copy()\n",
    "valX = X_t\n",
    "#valY = Y_train.copy()\n",
    "valY = Y_t\n",
    "init = tf.global_variables_initializer()\n",
    "sess.run(init)\n",
    "total_batch = int(416110/batch_size)\n",
    "for e in range(epochs):\n",
    "    for i in range(total_batch):\n",
    "        batch_X = valX[i*batch_size:(i+1)*batch_size,:]\n",
    "        batch_Y = valY[i*batch_size:(i+1)*batch_size]\n",
    "        l,e = batch_X.shape\n",
    "        batch_Y = batch_Y.reshape(l,1)\n",
    "        _,c= sess.run([optimizer,loss],feed_dict={x : batch_X, y_hat : batch_Y})\n",
    "        \n",
    "#we are inable to reconstruct this data properly..."
   ]
  },
  {
   "cell_type": "code",
   "execution_count": 109,
   "metadata": {},
   "outputs": [
    {
     "name": "stdout",
     "output_type": "stream",
     "text": [
      "             precision    recall  f1-score   support\n",
      "\n",
      "          0       0.96      1.00      0.98    171842\n",
      "          1       0.00      0.00      0.00      6492\n",
      "\n",
      "avg / total       0.93      0.96      0.95    178334\n",
      "\n"
     ]
    },
    {
     "name": "stderr",
     "output_type": "stream",
     "text": [
      "/home/zagdoun/anaconda2/envs/tensorflow3/lib/python3.6/site-packages/sklearn/metrics/classification.py:1135: UndefinedMetricWarning: Precision and F-score are ill-defined and being set to 0.0 in labels with no predicted samples.\n",
      "  'precision', 'predicted', average, warn_for)\n"
     ]
    },
    {
     "data": {
      "image/png": "[encoded data removed]",
      "text/plain": [
       "<matplotlib.figure.Figure at 0x7fa696ff0198>"
      ]
     },
     "metadata": {},
     "output_type": "display_data"
    }
   ],
   "source": [
    "from sklearn.metrics import roc_curve, auc, precision_recall_curve, f1_score\n",
    "from sklearn.model_selection import train_test_split\n",
    "from sklearn.metrics import classification_report, confusion_matrix, precision_recall_curve\n",
    "\n",
    "X_test = X_test.astype(np.float32)       \n",
    "XX_test = sess.run(RN1(X_test))\n",
    "\n",
    "\n",
    "\n",
    "fpr, tpr, _ = roc_curve(Y_test, XX_test)\n",
    "roc_auc = auc(fpr, tpr)\n",
    "\n",
    "plt.figure(figsize=(8, 6))\n",
    "plt.plot([0, 1], [0, 1], 'k--')\n",
    "plt.plot(fpr, tpr, label=\"RN (AUC=%.2f)\" % roc_auc, lw=2)\n",
    "plt.xlim([0.0, 1.0])\n",
    "plt.ylim([0.0, 1.05])\n",
    "plt.xlabel('False Positive Rate', fontsize=16)\n",
    "plt.ylabel('True Positive Rate', fontsize=16)\n",
    "plt.title('Receiver operating characteristic', fontsize=18)\n",
    "plt.legend(loc=\"lower right\", fontsize=16)\n",
    "\n",
    "report = pd.DataFrame(XX_test)\n",
    "\n",
    "XX_test = XX_test.astype(int)\n",
    "print(classification_report(Y_test, XX_test))\n",
    "#we only learned ho to reconstruct 0's it's a bad model"
   ]
  },
  {
   "cell_type": "markdown",
   "metadata": {},
   "source": [
    "# Conclusion of this notebook\n",
    "\n",
    "The main problem we had was the lack of $1$'s in the dataset and this led to various ways to handle this situation for example using the parameter \"class_weight\" and/or multiplying the number of $1$'s in our data set\n",
    "\n",
    "To sum up we used these models :\n",
    "\n",
    "    -Decision tree classifier (seen in course) used by scikit learn\n",
    "    -adaboost (seen in course) used by scikit learn\n",
    "    -Random Forest classifier used by scikit learn\n",
    "    -Gradient boosting method (seen in course) used by XGBoost \n",
    "    -Grid search method (mentioned in course) used by scikit-learn\n",
    "    -Feed forward neural networks (seen in course) used by keras/TensorFlow/PyTorch\n",
    "    -Denoising Autoencoders for preprocessing (mentioned in course) used by TensorFlow (do not work at all on this problem)\n",
    "    -VotingClassifer (mentioned in course) used by scikit-learn\n",
    "    -PCA (mentioned in course) used by scikit-learn\n",
    "    \n",
    "$$$$    \n",
    "Our best algorithm can be sum up in this little tab \n",
    "$$$$\n",
    "$$$$\n",
    "\n",
    "| Algo     |    AUC   |   Recall (1's) | Recall (0's) | Remarks\n",
    "| ------------- |: -------------: | ---------: |\n",
    "| Decision tree      |     .56 | .33| .76        |      Bad AUC but good recall |\n",
    "| Random forest        |        .61        |      .20 |   .90 | soso \n",
    "| XGBoost      |        .62        |      .41 | .74 | Slow but good\n",
    "| Voter | .62 | .31 | .83 | Good and fun\n",
    "$$$$\n",
    "Among our worst algortihm can be found adaboost and neural network (it's probably us who didn't manage to tune them up).\n",
    "\n",
    "Those mesure are not guarented for sure since they can change: the result might vary because of the randomness in the code!"
   ]
  }
 ],
 "metadata": {
  "kernelspec": {
   "display_name": "Python [conda env:tensorflow3]",
   "language": "python",
   "name": "conda-env-tensorflow3-py"
  },
  "language_info": {
   "codemirror_mode": {
    "name": "ipython",
    "version": 3
   },
   "file_extension": ".py",
   "mimetype": "text/x-python",
   "name": "python",
   "nbconvert_exporter": "python",
   "pygments_lexer": "ipython3",
   "version": "3.6.2"
  }
 },
 "nbformat": 4,
 "nbformat_minor": 2
}
